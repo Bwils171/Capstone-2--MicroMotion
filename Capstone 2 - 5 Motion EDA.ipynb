{
 "cells": [
  {
   "cell_type": "code",
   "execution_count": 78,
   "metadata": {},
   "outputs": [],
   "source": [
    "%matplotlib inline\n",
    "import pandas as pd\n",
    "import librosa as lib\n",
    "import librosa.display\n",
    "import numpy as np\n",
    "import matplotlib.pyplot as plt\n",
    "import seaborn as sns\n",
    "from IPython.display import Audio\n",
    "import scipy\n",
    "import pyarrow.feather as feather"
   ]
  },
  {
   "cell_type": "code",
   "execution_count": 93,
   "metadata": {},
   "outputs": [],
   "source": [
    "#import motion dataframe of only participant 1\n",
    "motion1 = feather.read_feather('Participant_Motion/PID_motion_1')"
   ]
  },
  {
   "cell_type": "markdown",
   "metadata": {},
   "source": [
    "Reminder of what each look like"
   ]
  },
  {
   "cell_type": "code",
   "execution_count": 94,
   "metadata": {
    "scrolled": true
   },
   "outputs": [
    {
     "data": {
      "text/html": [
       "<div>\n",
       "<style scoped>\n",
       "    .dataframe tbody tr th:only-of-type {\n",
       "        vertical-align: middle;\n",
       "    }\n",
       "\n",
       "    .dataframe tbody tr th {\n",
       "        vertical-align: top;\n",
       "    }\n",
       "\n",
       "    .dataframe thead th {\n",
       "        text-align: right;\n",
       "    }\n",
       "</style>\n",
       "<table border=\"1\" class=\"dataframe\">\n",
       "  <thead>\n",
       "    <tr style=\"text-align: right;\">\n",
       "      <th></th>\n",
       "      <th>X</th>\n",
       "      <th>Y</th>\n",
       "      <th>Z</th>\n",
       "      <th>PID</th>\n",
       "    </tr>\n",
       "  </thead>\n",
       "  <tbody>\n",
       "    <tr>\n",
       "      <th>0</th>\n",
       "      <td>159.596</td>\n",
       "      <td>1845.594</td>\n",
       "      <td>1732.156</td>\n",
       "      <td>1</td>\n",
       "    </tr>\n",
       "    <tr>\n",
       "      <th>1</th>\n",
       "      <td>159.583</td>\n",
       "      <td>1845.451</td>\n",
       "      <td>1732.144</td>\n",
       "      <td>1</td>\n",
       "    </tr>\n",
       "    <tr>\n",
       "      <th>2</th>\n",
       "      <td>159.584</td>\n",
       "      <td>1845.308</td>\n",
       "      <td>1732.126</td>\n",
       "      <td>1</td>\n",
       "    </tr>\n",
       "    <tr>\n",
       "      <th>3</th>\n",
       "      <td>159.587</td>\n",
       "      <td>1845.180</td>\n",
       "      <td>1732.105</td>\n",
       "      <td>1</td>\n",
       "    </tr>\n",
       "    <tr>\n",
       "      <th>4</th>\n",
       "      <td>159.597</td>\n",
       "      <td>1845.072</td>\n",
       "      <td>1732.103</td>\n",
       "      <td>1</td>\n",
       "    </tr>\n",
       "  </tbody>\n",
       "</table>\n",
       "</div>"
      ],
      "text/plain": [
       "         X         Y         Z  PID\n",
       "0  159.596  1845.594  1732.156    1\n",
       "1  159.583  1845.451  1732.144    1\n",
       "2  159.584  1845.308  1732.126    1\n",
       "3  159.587  1845.180  1732.105    1\n",
       "4  159.597  1845.072  1732.103    1"
      ]
     },
     "execution_count": 94,
     "metadata": {},
     "output_type": "execute_result"
    }
   ],
   "source": [
    "motion1.head()"
   ]
  },
  {
   "cell_type": "code",
   "execution_count": 81,
   "metadata": {
    "scrolled": true
   },
   "outputs": [
    {
     "data": {
      "text/html": [
       "<div>\n",
       "<style scoped>\n",
       "    .dataframe tbody tr th:only-of-type {\n",
       "        vertical-align: middle;\n",
       "    }\n",
       "\n",
       "    .dataframe tbody tr th {\n",
       "        vertical-align: top;\n",
       "    }\n",
       "\n",
       "    .dataframe thead th {\n",
       "        text-align: right;\n",
       "    }\n",
       "</style>\n",
       "<table border=\"1\" class=\"dataframe\">\n",
       "  <thead>\n",
       "    <tr style=\"text-align: right;\">\n",
       "      <th></th>\n",
       "      <th>X</th>\n",
       "      <th>Y</th>\n",
       "      <th>Z</th>\n",
       "      <th>PID</th>\n",
       "    </tr>\n",
       "  </thead>\n",
       "  <tbody>\n",
       "    <tr>\n",
       "      <th>count</th>\n",
       "      <td>36001.000000</td>\n",
       "      <td>36001.000000</td>\n",
       "      <td>36001.000000</td>\n",
       "      <td>36001.0</td>\n",
       "    </tr>\n",
       "    <tr>\n",
       "      <th>mean</th>\n",
       "      <td>160.456958</td>\n",
       "      <td>1860.184987</td>\n",
       "      <td>1724.088614</td>\n",
       "      <td>1.0</td>\n",
       "    </tr>\n",
       "    <tr>\n",
       "      <th>std</th>\n",
       "      <td>4.317600</td>\n",
       "      <td>11.164595</td>\n",
       "      <td>6.404407</td>\n",
       "      <td>0.0</td>\n",
       "    </tr>\n",
       "    <tr>\n",
       "      <th>min</th>\n",
       "      <td>144.325000</td>\n",
       "      <td>1829.400000</td>\n",
       "      <td>1715.278000</td>\n",
       "      <td>1.0</td>\n",
       "    </tr>\n",
       "    <tr>\n",
       "      <th>25%</th>\n",
       "      <td>158.102000</td>\n",
       "      <td>1852.813000</td>\n",
       "      <td>1718.380000</td>\n",
       "      <td>1.0</td>\n",
       "    </tr>\n",
       "    <tr>\n",
       "      <th>50%</th>\n",
       "      <td>161.018000</td>\n",
       "      <td>1859.077000</td>\n",
       "      <td>1721.902000</td>\n",
       "      <td>1.0</td>\n",
       "    </tr>\n",
       "    <tr>\n",
       "      <th>75%</th>\n",
       "      <td>163.689000</td>\n",
       "      <td>1866.659000</td>\n",
       "      <td>1732.118000</td>\n",
       "      <td>1.0</td>\n",
       "    </tr>\n",
       "    <tr>\n",
       "      <th>max</th>\n",
       "      <td>170.325000</td>\n",
       "      <td>1901.478000</td>\n",
       "      <td>1733.874000</td>\n",
       "      <td>1.0</td>\n",
       "    </tr>\n",
       "  </tbody>\n",
       "</table>\n",
       "</div>"
      ],
      "text/plain": [
       "                  X             Y             Z      PID\n",
       "count  36001.000000  36001.000000  36001.000000  36001.0\n",
       "mean     160.456958   1860.184987   1724.088614      1.0\n",
       "std        4.317600     11.164595      6.404407      0.0\n",
       "min      144.325000   1829.400000   1715.278000      1.0\n",
       "25%      158.102000   1852.813000   1718.380000      1.0\n",
       "50%      161.018000   1859.077000   1721.902000      1.0\n",
       "75%      163.689000   1866.659000   1732.118000      1.0\n",
       "max      170.325000   1901.478000   1733.874000      1.0"
      ]
     },
     "execution_count": 81,
     "metadata": {},
     "output_type": "execute_result"
    }
   ],
   "source": [
    "motion1.describe()"
   ]
  },
  {
   "cell_type": "code",
   "execution_count": 95,
   "metadata": {},
   "outputs": [],
   "source": [
    "time = pd.date_range(start='00:00', freq='10L', periods=36001)"
   ]
  },
  {
   "cell_type": "code",
   "execution_count": 96,
   "metadata": {},
   "outputs": [],
   "source": [
    "time = time.strftime('%M:%S.%f')"
   ]
  },
  {
   "cell_type": "code",
   "execution_count": 97,
   "metadata": {},
   "outputs": [],
   "source": [
    "motiont = motion1.set_index(time)"
   ]
  },
  {
   "cell_type": "code",
   "execution_count": 98,
   "metadata": {},
   "outputs": [
    {
     "data": {
      "text/html": [
       "<div>\n",
       "<style scoped>\n",
       "    .dataframe tbody tr th:only-of-type {\n",
       "        vertical-align: middle;\n",
       "    }\n",
       "\n",
       "    .dataframe tbody tr th {\n",
       "        vertical-align: top;\n",
       "    }\n",
       "\n",
       "    .dataframe thead th {\n",
       "        text-align: right;\n",
       "    }\n",
       "</style>\n",
       "<table border=\"1\" class=\"dataframe\">\n",
       "  <thead>\n",
       "    <tr style=\"text-align: right;\">\n",
       "      <th></th>\n",
       "      <th>X</th>\n",
       "      <th>Y</th>\n",
       "      <th>Z</th>\n",
       "      <th>PID</th>\n",
       "    </tr>\n",
       "  </thead>\n",
       "  <tbody>\n",
       "    <tr>\n",
       "      <th>00:00.000000</th>\n",
       "      <td>159.596</td>\n",
       "      <td>1845.594</td>\n",
       "      <td>1732.156</td>\n",
       "      <td>1</td>\n",
       "    </tr>\n",
       "    <tr>\n",
       "      <th>00:00.010000</th>\n",
       "      <td>159.583</td>\n",
       "      <td>1845.451</td>\n",
       "      <td>1732.144</td>\n",
       "      <td>1</td>\n",
       "    </tr>\n",
       "    <tr>\n",
       "      <th>00:00.020000</th>\n",
       "      <td>159.584</td>\n",
       "      <td>1845.308</td>\n",
       "      <td>1732.126</td>\n",
       "      <td>1</td>\n",
       "    </tr>\n",
       "    <tr>\n",
       "      <th>00:00.030000</th>\n",
       "      <td>159.587</td>\n",
       "      <td>1845.180</td>\n",
       "      <td>1732.105</td>\n",
       "      <td>1</td>\n",
       "    </tr>\n",
       "    <tr>\n",
       "      <th>00:00.040000</th>\n",
       "      <td>159.597</td>\n",
       "      <td>1845.072</td>\n",
       "      <td>1732.103</td>\n",
       "      <td>1</td>\n",
       "    </tr>\n",
       "  </tbody>\n",
       "</table>\n",
       "</div>"
      ],
      "text/plain": [
       "                    X         Y         Z  PID\n",
       "00:00.000000  159.596  1845.594  1732.156    1\n",
       "00:00.010000  159.583  1845.451  1732.144    1\n",
       "00:00.020000  159.584  1845.308  1732.126    1\n",
       "00:00.030000  159.587  1845.180  1732.105    1\n",
       "00:00.040000  159.597  1845.072  1732.103    1"
      ]
     },
     "execution_count": 98,
     "metadata": {},
     "output_type": "execute_result"
    }
   ],
   "source": [
    "motiont.head()"
   ]
  },
  {
   "cell_type": "code",
   "execution_count": null,
   "metadata": {},
   "outputs": [],
   "source": [
    "segments[0]= data.iloc[0:18000]\n",
    "segments[1]= data.iloc[18000:20000]\n",
    "segments[2]= data.iloc[20000:21500]\n",
    "segments[3]= data.iloc[21500:25500]\n",
    "segments[4]= data.iloc[25500:27500]\n",
    "segments[5]= data.iloc[27500:31000]\n",
    "segments[6]= data.iloc[31000:33000]\n",
    "segments[7]= data.iloc[33000:36000]"
   ]
  },
  {
   "cell_type": "code",
   "execution_count": 17,
   "metadata": {},
   "outputs": [],
   "source": [
    "#set the music dataframe index to a time series and upsamplt to match the 100 readings per second from the motion data\n",
    "motiont = pd.timedelta_range(start='0 S', end='356 S', periods=36001), inplace=True)\n",
    "musicr = music.resample('10L').mean().ffill()"
   ]
  },
  {
   "cell_type": "code",
   "execution_count": 102,
   "metadata": {},
   "outputs": [],
   "source": [
    "motiont['segment'] = 'Silence'\n",
    "motiont.loc['03:00':'03:20', 'segment'] = 'class1'\n",
    "motiont.loc['03:20':'03:35', 'segment'] = 'class2'\n",
    "motiont.loc['03:35':'04:15', 'segment'] = 'class3'\n",
    "motiont.loc['04:15':'04:35', 'segment'] = 'class4'\n",
    "motiont.loc['04:35':'05:10', 'segment'] = 'hiphop'\n",
    "motiont.loc['05:10':'05:31', 'segment'] = 'salsa'\n",
    "motiont.loc['05:31':, 'segment'] = 'edm'"
   ]
  },
  {
   "cell_type": "code",
   "execution_count": null,
   "metadata": {},
   "outputs": [],
   "source": [
    "motion"
   ]
  },
  {
   "cell_type": "code",
   "execution_count": 101,
   "metadata": {},
   "outputs": [
    {
     "data": {
      "text/plain": [
       "array(['Silence', 'edm'], dtype=object)"
      ]
     },
     "execution_count": 101,
     "metadata": {},
     "output_type": "execute_result"
    }
   ],
   "source": [
    "motion1['segment'].unique()"
   ]
  },
  {
   "cell_type": "code",
   "execution_count": 77,
   "metadata": {},
   "outputs": [
    {
     "data": {
      "text/html": [
       "<div>\n",
       "<style scoped>\n",
       "    .dataframe tbody tr th:only-of-type {\n",
       "        vertical-align: middle;\n",
       "    }\n",
       "\n",
       "    .dataframe tbody tr th {\n",
       "        vertical-align: top;\n",
       "    }\n",
       "\n",
       "    .dataframe thead th {\n",
       "        text-align: right;\n",
       "    }\n",
       "</style>\n",
       "<table border=\"1\" class=\"dataframe\">\n",
       "  <thead>\n",
       "    <tr style=\"text-align: right;\">\n",
       "      <th></th>\n",
       "      <th>X</th>\n",
       "      <th>Y</th>\n",
       "      <th>Z</th>\n",
       "      <th>PID</th>\n",
       "      <th>segment</th>\n",
       "    </tr>\n",
       "  </thead>\n",
       "  <tbody>\n",
       "    <tr>\n",
       "      <th>00:00.000000</th>\n",
       "      <td>159.596</td>\n",
       "      <td>1845.594</td>\n",
       "      <td>1732.156</td>\n",
       "      <td>1</td>\n",
       "      <td>Silence</td>\n",
       "    </tr>\n",
       "    <tr>\n",
       "      <th>00:00.010000</th>\n",
       "      <td>159.583</td>\n",
       "      <td>1845.451</td>\n",
       "      <td>1732.144</td>\n",
       "      <td>1</td>\n",
       "      <td>Silence</td>\n",
       "    </tr>\n",
       "    <tr>\n",
       "      <th>00:00.020000</th>\n",
       "      <td>159.584</td>\n",
       "      <td>1845.308</td>\n",
       "      <td>1732.126</td>\n",
       "      <td>1</td>\n",
       "      <td>Silence</td>\n",
       "    </tr>\n",
       "    <tr>\n",
       "      <th>00:00.030000</th>\n",
       "      <td>159.587</td>\n",
       "      <td>1845.180</td>\n",
       "      <td>1732.105</td>\n",
       "      <td>1</td>\n",
       "      <td>Silence</td>\n",
       "    </tr>\n",
       "    <tr>\n",
       "      <th>00:00.040000</th>\n",
       "      <td>159.597</td>\n",
       "      <td>1845.072</td>\n",
       "      <td>1732.103</td>\n",
       "      <td>1</td>\n",
       "      <td>Silence</td>\n",
       "    </tr>\n",
       "    <tr>\n",
       "      <th>...</th>\n",
       "      <td>...</td>\n",
       "      <td>...</td>\n",
       "      <td>...</td>\n",
       "      <td>...</td>\n",
       "      <td>...</td>\n",
       "    </tr>\n",
       "    <tr>\n",
       "      <th>05:59.960000</th>\n",
       "      <td>160.090</td>\n",
       "      <td>1837.312</td>\n",
       "      <td>1715.629</td>\n",
       "      <td>1</td>\n",
       "      <td>music</td>\n",
       "    </tr>\n",
       "    <tr>\n",
       "      <th>05:59.970000</th>\n",
       "      <td>160.122</td>\n",
       "      <td>1837.488</td>\n",
       "      <td>1715.619</td>\n",
       "      <td>1</td>\n",
       "      <td>music</td>\n",
       "    </tr>\n",
       "    <tr>\n",
       "      <th>05:59.980000</th>\n",
       "      <td>160.128</td>\n",
       "      <td>1837.653</td>\n",
       "      <td>1715.597</td>\n",
       "      <td>1</td>\n",
       "      <td>music</td>\n",
       "    </tr>\n",
       "    <tr>\n",
       "      <th>05:59.990000</th>\n",
       "      <td>160.147</td>\n",
       "      <td>1837.829</td>\n",
       "      <td>1715.599</td>\n",
       "      <td>1</td>\n",
       "      <td>music</td>\n",
       "    </tr>\n",
       "    <tr>\n",
       "      <th>06:00.000000</th>\n",
       "      <td>160.141</td>\n",
       "      <td>1837.983</td>\n",
       "      <td>1715.592</td>\n",
       "      <td>1</td>\n",
       "      <td>music</td>\n",
       "    </tr>\n",
       "  </tbody>\n",
       "</table>\n",
       "<p>36001 rows × 5 columns</p>\n",
       "</div>"
      ],
      "text/plain": [
       "                    X         Y         Z  PID  segment\n",
       "00:00.000000  159.596  1845.594  1732.156    1  Silence\n",
       "00:00.010000  159.583  1845.451  1732.144    1  Silence\n",
       "00:00.020000  159.584  1845.308  1732.126    1  Silence\n",
       "00:00.030000  159.587  1845.180  1732.105    1  Silence\n",
       "00:00.040000  159.597  1845.072  1732.103    1  Silence\n",
       "...               ...       ...       ...  ...      ...\n",
       "05:59.960000  160.090  1837.312  1715.629    1    music\n",
       "05:59.970000  160.122  1837.488  1715.619    1    music\n",
       "05:59.980000  160.128  1837.653  1715.597    1    music\n",
       "05:59.990000  160.147  1837.829  1715.599    1    music\n",
       "06:00.000000  160.141  1837.983  1715.592    1    music\n",
       "\n",
       "[36001 rows x 5 columns]"
      ]
     },
     "execution_count": 77,
     "metadata": {},
     "output_type": "execute_result"
    }
   ],
   "source": [
    "motion1"
   ]
  },
  {
   "cell_type": "code",
   "execution_count": null,
   "metadata": {},
   "outputs": [],
   "source": []
  },
  {
   "cell_type": "code",
   "execution_count": null,
   "metadata": {},
   "outputs": [],
   "source": []
  },
  {
   "cell_type": "code",
   "execution_count": null,
   "metadata": {},
   "outputs": [],
   "source": []
  },
  {
   "cell_type": "code",
   "execution_count": 18,
   "metadata": {
    "scrolled": true
   },
   "outputs": [
    {
     "name": "stdout",
     "output_type": "stream",
     "text": [
      "(17601, 12)\n"
     ]
    },
    {
     "data": {
      "text/plain": [
       "(                               C   C_sharp         D   D_sharp         E  \\\n",
       " 0 days 00:05:55.960000  0.551258  0.239016  0.590822  0.848327  0.556109   \n",
       " 0 days 00:05:55.970000  0.486828  0.255034  0.616595  0.832311  0.567619   \n",
       " 0 days 00:05:55.980000  0.418250  0.280371  0.653649  0.814706  0.601733   \n",
       " 0 days 00:05:55.990000  0.418250  0.280371  0.653649  0.814706  0.601733   \n",
       " 0 days 00:05:56         0.370047  0.297515  0.677903  0.787486  0.621999   \n",
       " \n",
       "                                F  F_sharp         G   G_sharp         A  \\\n",
       " 0 days 00:05:55.960000  0.694828      1.0  0.846755  0.592610  0.795401   \n",
       " 0 days 00:05:55.970000  0.685870      1.0  0.849619  0.508727  0.755731   \n",
       " 0 days 00:05:55.980000  0.692381      1.0  0.866687  0.420425  0.728755   \n",
       " 0 days 00:05:55.990000  0.692381      1.0  0.866687  0.420425  0.728755   \n",
       " 0 days 00:05:56         0.695762      1.0  0.880282  0.364317  0.719848   \n",
       " \n",
       "                          A_sharp         B  \n",
       " 0 days 00:05:55.960000  0.520809  0.609293  \n",
       " 0 days 00:05:55.970000  0.539000  0.600682  \n",
       " 0 days 00:05:55.980000  0.549097  0.572606  \n",
       " 0 days 00:05:55.990000  0.549097  0.572606  \n",
       " 0 days 00:05:56         0.556928  0.527846  ,\n",
       "                                   C   C_sharp         D   D_sharp         E  \\\n",
       " 0 days 00:05:55.953729871  0.618478  0.236057  0.601991  0.865204  0.536946   \n",
       " 0 days 00:05:55.965297403  0.551258  0.239016  0.590822  0.848327  0.556109   \n",
       " 0 days 00:05:55.976864935  0.486828  0.255034  0.616595  0.832311  0.567619   \n",
       " 0 days 00:05:55.988432467  0.418250  0.280371  0.653649  0.814706  0.601733   \n",
       " 0 days 00:05:56            0.370047  0.297515  0.677903  0.787486  0.621999   \n",
       " \n",
       "                                   F  F_sharp         G   G_sharp         A  \\\n",
       " 0 days 00:05:55.953729871  0.714408      1.0  0.867789  0.668580  0.853943   \n",
       " 0 days 00:05:55.965297403  0.694828      1.0  0.846755  0.592610  0.795401   \n",
       " 0 days 00:05:55.976864935  0.685870      1.0  0.849619  0.508727  0.755731   \n",
       " 0 days 00:05:55.988432467  0.692381      1.0  0.866687  0.420425  0.728755   \n",
       " 0 days 00:05:56            0.695762      1.0  0.880282  0.364317  0.719848   \n",
       " \n",
       "                             A_sharp         B  \n",
       " 0 days 00:05:55.953729871  0.508954  0.600664  \n",
       " 0 days 00:05:55.965297403  0.520809  0.609293  \n",
       " 0 days 00:05:55.976864935  0.539000  0.600682  \n",
       " 0 days 00:05:55.988432467  0.549097  0.572606  \n",
       " 0 days 00:05:56            0.556928  0.527846  )"
      ]
     },
     "execution_count": 18,
     "metadata": {},
     "output_type": "execute_result"
    }
   ],
   "source": [
    "print(musicr.shape)\n",
    "musicr.tail(), music.tail()"
   ]
  },
  {
   "cell_type": "code",
   "execution_count": 19,
   "metadata": {},
   "outputs": [
    {
     "data": {
      "image/png": "[encoded data removed]",
      "text/plain": [
       "<Figure size 1152x864 with 1 Axes>"
      ]
     },
     "metadata": {
      "needs_background": "light"
     },
     "output_type": "display_data"
    }
   ],
   "source": [
    "plt.figure(figsize=(16, 12))\n",
    "plt.plot(music['00:04:22':'00:04:23']['C'])\n",
    "plt.plot(musicr['00:04:22':'00:04:23']['C'])\n",
    "plt.show()"
   ]
  },
  {
   "cell_type": "code",
   "execution_count": 20,
   "metadata": {},
   "outputs": [],
   "source": [
    "musicr.reset_index(drop=True, inplace=True)"
   ]
  },
  {
   "cell_type": "markdown",
   "metadata": {},
   "source": [
    "### Matching Times Between DataFrames\n",
    "We need to match the musics and motion DataFrames together. We will create a 'time' column that repersents hundreths of seconds from the start of the motion capture. The music starts at 3 minutes or 18000 hundreths of a second"
   ]
  },
  {
   "cell_type": "code",
   "execution_count": 21,
   "metadata": {},
   "outputs": [],
   "source": [
    "motion1['time(hs)'] = list(range(0,36001))\n",
    "musicr['time(hs)'] = list(range(18000,35601))"
   ]
  },
  {
   "cell_type": "code",
   "execution_count": 22,
   "metadata": {},
   "outputs": [
    {
     "data": {
      "text/html": [
       "<div>\n",
       "<style scoped>\n",
       "    .dataframe tbody tr th:only-of-type {\n",
       "        vertical-align: middle;\n",
       "    }\n",
       "\n",
       "    .dataframe tbody tr th {\n",
       "        vertical-align: top;\n",
       "    }\n",
       "\n",
       "    .dataframe thead th {\n",
       "        text-align: right;\n",
       "    }\n",
       "</style>\n",
       "<table border=\"1\" class=\"dataframe\">\n",
       "  <thead>\n",
       "    <tr style=\"text-align: right;\">\n",
       "      <th></th>\n",
       "      <th>X</th>\n",
       "      <th>Y</th>\n",
       "      <th>Z</th>\n",
       "      <th>PID</th>\n",
       "      <th>time(hs)</th>\n",
       "    </tr>\n",
       "  </thead>\n",
       "  <tbody>\n",
       "    <tr>\n",
       "      <th>0</th>\n",
       "      <td>159.596</td>\n",
       "      <td>1845.594</td>\n",
       "      <td>1732.156</td>\n",
       "      <td>1</td>\n",
       "      <td>0</td>\n",
       "    </tr>\n",
       "    <tr>\n",
       "      <th>1</th>\n",
       "      <td>159.583</td>\n",
       "      <td>1845.451</td>\n",
       "      <td>1732.144</td>\n",
       "      <td>1</td>\n",
       "      <td>1</td>\n",
       "    </tr>\n",
       "    <tr>\n",
       "      <th>2</th>\n",
       "      <td>159.584</td>\n",
       "      <td>1845.308</td>\n",
       "      <td>1732.126</td>\n",
       "      <td>1</td>\n",
       "      <td>2</td>\n",
       "    </tr>\n",
       "    <tr>\n",
       "      <th>3</th>\n",
       "      <td>159.587</td>\n",
       "      <td>1845.180</td>\n",
       "      <td>1732.105</td>\n",
       "      <td>1</td>\n",
       "      <td>3</td>\n",
       "    </tr>\n",
       "    <tr>\n",
       "      <th>4</th>\n",
       "      <td>159.597</td>\n",
       "      <td>1845.072</td>\n",
       "      <td>1732.103</td>\n",
       "      <td>1</td>\n",
       "      <td>4</td>\n",
       "    </tr>\n",
       "    <tr>\n",
       "      <th>...</th>\n",
       "      <td>...</td>\n",
       "      <td>...</td>\n",
       "      <td>...</td>\n",
       "      <td>...</td>\n",
       "      <td>...</td>\n",
       "    </tr>\n",
       "    <tr>\n",
       "      <th>35996</th>\n",
       "      <td>160.090</td>\n",
       "      <td>1837.312</td>\n",
       "      <td>1715.629</td>\n",
       "      <td>1</td>\n",
       "      <td>35996</td>\n",
       "    </tr>\n",
       "    <tr>\n",
       "      <th>35997</th>\n",
       "      <td>160.122</td>\n",
       "      <td>1837.488</td>\n",
       "      <td>1715.619</td>\n",
       "      <td>1</td>\n",
       "      <td>35997</td>\n",
       "    </tr>\n",
       "    <tr>\n",
       "      <th>35998</th>\n",
       "      <td>160.128</td>\n",
       "      <td>1837.653</td>\n",
       "      <td>1715.597</td>\n",
       "      <td>1</td>\n",
       "      <td>35998</td>\n",
       "    </tr>\n",
       "    <tr>\n",
       "      <th>35999</th>\n",
       "      <td>160.147</td>\n",
       "      <td>1837.829</td>\n",
       "      <td>1715.599</td>\n",
       "      <td>1</td>\n",
       "      <td>35999</td>\n",
       "    </tr>\n",
       "    <tr>\n",
       "      <th>36000</th>\n",
       "      <td>160.141</td>\n",
       "      <td>1837.983</td>\n",
       "      <td>1715.592</td>\n",
       "      <td>1</td>\n",
       "      <td>36000</td>\n",
       "    </tr>\n",
       "  </tbody>\n",
       "</table>\n",
       "<p>36001 rows × 5 columns</p>\n",
       "</div>"
      ],
      "text/plain": [
       "             X         Y         Z  PID  time(hs)\n",
       "0      159.596  1845.594  1732.156    1         0\n",
       "1      159.583  1845.451  1732.144    1         1\n",
       "2      159.584  1845.308  1732.126    1         2\n",
       "3      159.587  1845.180  1732.105    1         3\n",
       "4      159.597  1845.072  1732.103    1         4\n",
       "...        ...       ...       ...  ...       ...\n",
       "35996  160.090  1837.312  1715.629    1     35996\n",
       "35997  160.122  1837.488  1715.619    1     35997\n",
       "35998  160.128  1837.653  1715.597    1     35998\n",
       "35999  160.147  1837.829  1715.599    1     35999\n",
       "36000  160.141  1837.983  1715.592    1     36000\n",
       "\n",
       "[36001 rows x 5 columns]"
      ]
     },
     "execution_count": 22,
     "metadata": {},
     "output_type": "execute_result"
    }
   ],
   "source": [
    "motion1"
   ]
  },
  {
   "cell_type": "code",
   "execution_count": 37,
   "metadata": {},
   "outputs": [],
   "source": []
  }
 ],
 "metadata": {
  "kernelspec": {
   "display_name": "Python 3",
   "language": "python",
   "name": "python3"
  },
  "language_info": {
   "codemirror_mode": {
    "name": "ipython",
    "version": 3
   },
   "file_extension": ".py",
   "mimetype": "text/x-python",
   "name": "python",
   "nbconvert_exporter": "python",
   "pygments_lexer": "ipython3",
   "version": "3.7.10"
  }
 },
 "nbformat": 4,
 "nbformat_minor": 4
}
