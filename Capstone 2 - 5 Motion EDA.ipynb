{
 "cells": [
  {
   "cell_type": "code",
   "execution_count": 1,
   "metadata": {},
   "outputs": [],
   "source": [
    "%matplotlib inline\n",
    "import pandas as pd\n",
    "import librosa as lib\n",
    "import librosa.display\n",
    "import numpy as np\n",
    "import matplotlib.pyplot as plt\n",
    "import seaborn as sns\n",
    "from IPython.display import Audio\n",
    "import scipy\n",
    "import pyarrow.feather as feather"
   ]
  },
  {
   "cell_type": "code",
   "execution_count": 2,
   "metadata": {},
   "outputs": [],
   "source": [
    "#import motion dataframe of only participant 1\n",
    "motion1 = feather.read_feather('Participant_Motion/PID_motion_1')"
   ]
  },
  {
   "cell_type": "markdown",
   "metadata": {},
   "source": [
    "Reminder of what each look like"
   ]
  },
  {
   "cell_type": "code",
   "execution_count": 3,
   "metadata": {
    "scrolled": false
   },
   "outputs": [
    {
     "data": {
      "text/plain": [
       "(         X         Y         Z  PID\n",
       " 0  159.596  1845.594  1732.156    1\n",
       " 1  159.583  1845.451  1732.144    1\n",
       " 2  159.584  1845.308  1732.126    1\n",
       " 3  159.587  1845.180  1732.105    1\n",
       " 4  159.597  1845.072  1732.103    1,\n",
       " (36001, 4))"
      ]
     },
     "execution_count": 3,
     "metadata": {},
     "output_type": "execute_result"
    }
   ],
   "source": [
    "motion1.head(), motion1.shape"
   ]
  },
  {
   "cell_type": "code",
   "execution_count": 4,
   "metadata": {
    "scrolled": true
   },
   "outputs": [
    {
     "data": {
      "text/html": [
       "<div>\n",
       "<style scoped>\n",
       "    .dataframe tbody tr th:only-of-type {\n",
       "        vertical-align: middle;\n",
       "    }\n",
       "\n",
       "    .dataframe tbody tr th {\n",
       "        vertical-align: top;\n",
       "    }\n",
       "\n",
       "    .dataframe thead th {\n",
       "        text-align: right;\n",
       "    }\n",
       "</style>\n",
       "<table border=\"1\" class=\"dataframe\">\n",
       "  <thead>\n",
       "    <tr style=\"text-align: right;\">\n",
       "      <th></th>\n",
       "      <th>X</th>\n",
       "      <th>Y</th>\n",
       "      <th>Z</th>\n",
       "      <th>PID</th>\n",
       "    </tr>\n",
       "  </thead>\n",
       "  <tbody>\n",
       "    <tr>\n",
       "      <th>count</th>\n",
       "      <td>36001.000000</td>\n",
       "      <td>36001.000000</td>\n",
       "      <td>36001.000000</td>\n",
       "      <td>36001.0</td>\n",
       "    </tr>\n",
       "    <tr>\n",
       "      <th>mean</th>\n",
       "      <td>160.456958</td>\n",
       "      <td>1860.184987</td>\n",
       "      <td>1724.088614</td>\n",
       "      <td>1.0</td>\n",
       "    </tr>\n",
       "    <tr>\n",
       "      <th>std</th>\n",
       "      <td>4.317600</td>\n",
       "      <td>11.164595</td>\n",
       "      <td>6.404407</td>\n",
       "      <td>0.0</td>\n",
       "    </tr>\n",
       "    <tr>\n",
       "      <th>min</th>\n",
       "      <td>144.325000</td>\n",
       "      <td>1829.400000</td>\n",
       "      <td>1715.278000</td>\n",
       "      <td>1.0</td>\n",
       "    </tr>\n",
       "    <tr>\n",
       "      <th>25%</th>\n",
       "      <td>158.102000</td>\n",
       "      <td>1852.813000</td>\n",
       "      <td>1718.380000</td>\n",
       "      <td>1.0</td>\n",
       "    </tr>\n",
       "    <tr>\n",
       "      <th>50%</th>\n",
       "      <td>161.018000</td>\n",
       "      <td>1859.077000</td>\n",
       "      <td>1721.902000</td>\n",
       "      <td>1.0</td>\n",
       "    </tr>\n",
       "    <tr>\n",
       "      <th>75%</th>\n",
       "      <td>163.689000</td>\n",
       "      <td>1866.659000</td>\n",
       "      <td>1732.118000</td>\n",
       "      <td>1.0</td>\n",
       "    </tr>\n",
       "    <tr>\n",
       "      <th>max</th>\n",
       "      <td>170.325000</td>\n",
       "      <td>1901.478000</td>\n",
       "      <td>1733.874000</td>\n",
       "      <td>1.0</td>\n",
       "    </tr>\n",
       "  </tbody>\n",
       "</table>\n",
       "</div>"
      ],
      "text/plain": [
       "                  X             Y             Z      PID\n",
       "count  36001.000000  36001.000000  36001.000000  36001.0\n",
       "mean     160.456958   1860.184987   1724.088614      1.0\n",
       "std        4.317600     11.164595      6.404407      0.0\n",
       "min      144.325000   1829.400000   1715.278000      1.0\n",
       "25%      158.102000   1852.813000   1718.380000      1.0\n",
       "50%      161.018000   1859.077000   1721.902000      1.0\n",
       "75%      163.689000   1866.659000   1732.118000      1.0\n",
       "max      170.325000   1901.478000   1733.874000      1.0"
      ]
     },
     "execution_count": 4,
     "metadata": {},
     "output_type": "execute_result"
    }
   ],
   "source": [
    "motion1.describe()"
   ]
  },
  {
   "cell_type": "code",
   "execution_count": 5,
   "metadata": {},
   "outputs": [
    {
     "data": {
      "text/plain": [
       "dtype('<M8[ns]')"
      ]
     },
     "execution_count": 5,
     "metadata": {},
     "output_type": "execute_result"
    }
   ],
   "source": [
    "time = pd.date_range(start='00:00', freq='10L', periods=36001)\n",
    "time.dtype"
   ]
  },
  {
   "cell_type": "code",
   "execution_count": 6,
   "metadata": {},
   "outputs": [
    {
     "data": {
      "text/plain": [
       "dtype('O')"
      ]
     },
     "execution_count": 6,
     "metadata": {},
     "output_type": "execute_result"
    }
   ],
   "source": [
    "time = time.strftime('%M:%S.%f')\n",
    "time.dtype"
   ]
  },
  {
   "cell_type": "code",
   "execution_count": 7,
   "metadata": {},
   "outputs": [],
   "source": [
    "motiont = motion1.set_index(time)"
   ]
  },
  {
   "cell_type": "code",
   "execution_count": 8,
   "metadata": {},
   "outputs": [
    {
     "name": "stdout",
     "output_type": "stream",
     "text": [
      "<class 'pandas.core.frame.DataFrame'>\n",
      "Index: 36001 entries, 00:00.000000 to 06:00.000000\n",
      "Data columns (total 4 columns):\n",
      " #   Column  Non-Null Count  Dtype  \n",
      "---  ------  --------------  -----  \n",
      " 0   X       36001 non-null  float64\n",
      " 1   Y       36001 non-null  float64\n",
      " 2   Z       36001 non-null  float64\n",
      " 3   PID     36001 non-null  int64  \n",
      "dtypes: float64(3), int64(1)\n",
      "memory usage: 1.4+ MB\n"
     ]
    }
   ],
   "source": [
    "motiont.info()"
   ]
  },
  {
   "cell_type": "code",
   "execution_count": 9,
   "metadata": {},
   "outputs": [],
   "source": [
    "motiont['segment'] = 'Silence'\n",
    "motiont.loc['00:03:00':'00:03:20', 'segment'] = 'class1'\n",
    "motiont.loc['03:20':'03:35', 'segment'] = 'class2'\n",
    "motiont.loc['03:35':'04:15', 'segment'] = 'class3'\n",
    "motiont.loc['04:15':'04:35', 'segment'] = 'class4'\n",
    "motiont.loc['04:35':'05:10', 'segment'] = 'hiphop'\n",
    "motiont.loc['05:10':'05:31', 'segment'] = 'salsa'\n",
    "motiont.loc['05:31':, 'segment'] = 'edm'"
   ]
  },
  {
   "cell_type": "code",
   "execution_count": 10,
   "metadata": {},
   "outputs": [
    {
     "data": {
      "text/plain": [
       "00:00.000000    Silence\n",
       "00:00.010000    Silence\n",
       "00:00.020000    Silence\n",
       "00:00.030000    Silence\n",
       "00:00.040000    Silence\n",
       "                 ...   \n",
       "05:59.960000        edm\n",
       "05:59.970000        edm\n",
       "05:59.980000        edm\n",
       "05:59.990000        edm\n",
       "06:00.000000        edm\n",
       "Name: segment, Length: 36001, dtype: object"
      ]
     },
     "execution_count": 10,
     "metadata": {},
     "output_type": "execute_result"
    }
   ],
   "source": [
    "motiont['segment']"
   ]
  },
  {
   "cell_type": "code",
   "execution_count": 11,
   "metadata": {},
   "outputs": [],
   "source": [
    "motiont.index = pd.to_datetime(motiont.index, format='%M:%S.%f')"
   ]
  },
  {
   "cell_type": "code",
   "execution_count": 12,
   "metadata": {},
   "outputs": [
    {
     "data": {
      "text/plain": [
       "(36001, 5)"
      ]
     },
     "execution_count": 12,
     "metadata": {},
     "output_type": "execute_result"
    }
   ],
   "source": [
    "motiont.shape"
   ]
  },
  {
   "cell_type": "code",
   "execution_count": 13,
   "metadata": {},
   "outputs": [],
   "source": [
    "#set the music dataframe index to a time series and upsamplt to match the 100 readings per second from the motion data\n",
    "motionr = motiont.resample('200L').mean()"
   ]
  },
  {
   "cell_type": "code",
   "execution_count": 14,
   "metadata": {},
   "outputs": [
    {
     "data": {
      "text/html": [
       "<div>\n",
       "<style scoped>\n",
       "    .dataframe tbody tr th:only-of-type {\n",
       "        vertical-align: middle;\n",
       "    }\n",
       "\n",
       "    .dataframe tbody tr th {\n",
       "        vertical-align: top;\n",
       "    }\n",
       "\n",
       "    .dataframe thead th {\n",
       "        text-align: right;\n",
       "    }\n",
       "</style>\n",
       "<table border=\"1\" class=\"dataframe\">\n",
       "  <thead>\n",
       "    <tr style=\"text-align: right;\">\n",
       "      <th></th>\n",
       "      <th>X</th>\n",
       "      <th>Y</th>\n",
       "      <th>Z</th>\n",
       "      <th>PID</th>\n",
       "    </tr>\n",
       "  </thead>\n",
       "  <tbody>\n",
       "    <tr>\n",
       "      <th>1900-01-01 00:00:00.000</th>\n",
       "      <td>159.69750</td>\n",
       "      <td>1844.71755</td>\n",
       "      <td>1732.09535</td>\n",
       "      <td>1</td>\n",
       "    </tr>\n",
       "    <tr>\n",
       "      <th>1900-01-01 00:00:00.200</th>\n",
       "      <td>160.21170</td>\n",
       "      <td>1844.63625</td>\n",
       "      <td>1732.06770</td>\n",
       "      <td>1</td>\n",
       "    </tr>\n",
       "    <tr>\n",
       "      <th>1900-01-01 00:00:00.400</th>\n",
       "      <td>160.53550</td>\n",
       "      <td>1846.72830</td>\n",
       "      <td>1732.12305</td>\n",
       "      <td>1</td>\n",
       "    </tr>\n",
       "    <tr>\n",
       "      <th>1900-01-01 00:00:00.600</th>\n",
       "      <td>160.62530</td>\n",
       "      <td>1849.30315</td>\n",
       "      <td>1732.22560</td>\n",
       "      <td>1</td>\n",
       "    </tr>\n",
       "    <tr>\n",
       "      <th>1900-01-01 00:00:00.800</th>\n",
       "      <td>160.51940</td>\n",
       "      <td>1850.78495</td>\n",
       "      <td>1732.32555</td>\n",
       "      <td>1</td>\n",
       "    </tr>\n",
       "    <tr>\n",
       "      <th>...</th>\n",
       "      <td>...</td>\n",
       "      <td>...</td>\n",
       "      <td>...</td>\n",
       "      <td>...</td>\n",
       "    </tr>\n",
       "    <tr>\n",
       "      <th>1900-01-01 00:05:59.200</th>\n",
       "      <td>156.83400</td>\n",
       "      <td>1833.71825</td>\n",
       "      <td>1715.62615</td>\n",
       "      <td>1</td>\n",
       "    </tr>\n",
       "    <tr>\n",
       "      <th>1900-01-01 00:05:59.400</th>\n",
       "      <td>157.20980</td>\n",
       "      <td>1832.30235</td>\n",
       "      <td>1715.69770</td>\n",
       "      <td>1</td>\n",
       "    </tr>\n",
       "    <tr>\n",
       "      <th>1900-01-01 00:05:59.600</th>\n",
       "      <td>158.44670</td>\n",
       "      <td>1833.38550</td>\n",
       "      <td>1715.61895</td>\n",
       "      <td>1</td>\n",
       "    </tr>\n",
       "    <tr>\n",
       "      <th>1900-01-01 00:05:59.800</th>\n",
       "      <td>159.71515</td>\n",
       "      <td>1836.19990</td>\n",
       "      <td>1715.66870</td>\n",
       "      <td>1</td>\n",
       "    </tr>\n",
       "    <tr>\n",
       "      <th>1900-01-01 00:06:00.000</th>\n",
       "      <td>160.14100</td>\n",
       "      <td>1837.98300</td>\n",
       "      <td>1715.59200</td>\n",
       "      <td>1</td>\n",
       "    </tr>\n",
       "  </tbody>\n",
       "</table>\n",
       "<p>1801 rows × 4 columns</p>\n",
       "</div>"
      ],
      "text/plain": [
       "                                 X           Y           Z  PID\n",
       "1900-01-01 00:00:00.000  159.69750  1844.71755  1732.09535    1\n",
       "1900-01-01 00:00:00.200  160.21170  1844.63625  1732.06770    1\n",
       "1900-01-01 00:00:00.400  160.53550  1846.72830  1732.12305    1\n",
       "1900-01-01 00:00:00.600  160.62530  1849.30315  1732.22560    1\n",
       "1900-01-01 00:00:00.800  160.51940  1850.78495  1732.32555    1\n",
       "...                            ...         ...         ...  ...\n",
       "1900-01-01 00:05:59.200  156.83400  1833.71825  1715.62615    1\n",
       "1900-01-01 00:05:59.400  157.20980  1832.30235  1715.69770    1\n",
       "1900-01-01 00:05:59.600  158.44670  1833.38550  1715.61895    1\n",
       "1900-01-01 00:05:59.800  159.71515  1836.19990  1715.66870    1\n",
       "1900-01-01 00:06:00.000  160.14100  1837.98300  1715.59200    1\n",
       "\n",
       "[1801 rows x 4 columns]"
      ]
     },
     "execution_count": 14,
     "metadata": {},
     "output_type": "execute_result"
    }
   ],
   "source": [
    "motionr#.resample('20L').mean()"
   ]
  },
  {
   "cell_type": "markdown",
   "metadata": {},
   "source": [
    "### Matching Times Between DataFrames\n",
    "We need to match the musics and motion DataFrames together. We will create a 'time' column that repersents hundreths of seconds from the start of the motion capture. The music starts at 3 minutes or 18000 hundreths of a second"
   ]
  },
  {
   "cell_type": "code",
   "execution_count": 18,
   "metadata": {},
   "outputs": [],
   "source": [
    "motion1['time(hs)'] = list(range(0,36001))"
   ]
  },
  {
   "cell_type": "code",
   "execution_count": 19,
   "metadata": {},
   "outputs": [
    {
     "data": {
      "text/html": [
       "<div>\n",
       "<style scoped>\n",
       "    .dataframe tbody tr th:only-of-type {\n",
       "        vertical-align: middle;\n",
       "    }\n",
       "\n",
       "    .dataframe tbody tr th {\n",
       "        vertical-align: top;\n",
       "    }\n",
       "\n",
       "    .dataframe thead th {\n",
       "        text-align: right;\n",
       "    }\n",
       "</style>\n",
       "<table border=\"1\" class=\"dataframe\">\n",
       "  <thead>\n",
       "    <tr style=\"text-align: right;\">\n",
       "      <th></th>\n",
       "      <th>X</th>\n",
       "      <th>Y</th>\n",
       "      <th>Z</th>\n",
       "      <th>PID</th>\n",
       "      <th>time(hs)</th>\n",
       "    </tr>\n",
       "  </thead>\n",
       "  <tbody>\n",
       "    <tr>\n",
       "      <th>0</th>\n",
       "      <td>159.596</td>\n",
       "      <td>1845.594</td>\n",
       "      <td>1732.156</td>\n",
       "      <td>1</td>\n",
       "      <td>0</td>\n",
       "    </tr>\n",
       "    <tr>\n",
       "      <th>1</th>\n",
       "      <td>159.583</td>\n",
       "      <td>1845.451</td>\n",
       "      <td>1732.144</td>\n",
       "      <td>1</td>\n",
       "      <td>1</td>\n",
       "    </tr>\n",
       "    <tr>\n",
       "      <th>2</th>\n",
       "      <td>159.584</td>\n",
       "      <td>1845.308</td>\n",
       "      <td>1732.126</td>\n",
       "      <td>1</td>\n",
       "      <td>2</td>\n",
       "    </tr>\n",
       "    <tr>\n",
       "      <th>3</th>\n",
       "      <td>159.587</td>\n",
       "      <td>1845.180</td>\n",
       "      <td>1732.105</td>\n",
       "      <td>1</td>\n",
       "      <td>3</td>\n",
       "    </tr>\n",
       "    <tr>\n",
       "      <th>4</th>\n",
       "      <td>159.597</td>\n",
       "      <td>1845.072</td>\n",
       "      <td>1732.103</td>\n",
       "      <td>1</td>\n",
       "      <td>4</td>\n",
       "    </tr>\n",
       "    <tr>\n",
       "      <th>...</th>\n",
       "      <td>...</td>\n",
       "      <td>...</td>\n",
       "      <td>...</td>\n",
       "      <td>...</td>\n",
       "      <td>...</td>\n",
       "    </tr>\n",
       "    <tr>\n",
       "      <th>35996</th>\n",
       "      <td>160.090</td>\n",
       "      <td>1837.312</td>\n",
       "      <td>1715.629</td>\n",
       "      <td>1</td>\n",
       "      <td>35996</td>\n",
       "    </tr>\n",
       "    <tr>\n",
       "      <th>35997</th>\n",
       "      <td>160.122</td>\n",
       "      <td>1837.488</td>\n",
       "      <td>1715.619</td>\n",
       "      <td>1</td>\n",
       "      <td>35997</td>\n",
       "    </tr>\n",
       "    <tr>\n",
       "      <th>35998</th>\n",
       "      <td>160.128</td>\n",
       "      <td>1837.653</td>\n",
       "      <td>1715.597</td>\n",
       "      <td>1</td>\n",
       "      <td>35998</td>\n",
       "    </tr>\n",
       "    <tr>\n",
       "      <th>35999</th>\n",
       "      <td>160.147</td>\n",
       "      <td>1837.829</td>\n",
       "      <td>1715.599</td>\n",
       "      <td>1</td>\n",
       "      <td>35999</td>\n",
       "    </tr>\n",
       "    <tr>\n",
       "      <th>36000</th>\n",
       "      <td>160.141</td>\n",
       "      <td>1837.983</td>\n",
       "      <td>1715.592</td>\n",
       "      <td>1</td>\n",
       "      <td>36000</td>\n",
       "    </tr>\n",
       "  </tbody>\n",
       "</table>\n",
       "<p>36001 rows × 5 columns</p>\n",
       "</div>"
      ],
      "text/plain": [
       "             X         Y         Z  PID  time(hs)\n",
       "0      159.596  1845.594  1732.156    1         0\n",
       "1      159.583  1845.451  1732.144    1         1\n",
       "2      159.584  1845.308  1732.126    1         2\n",
       "3      159.587  1845.180  1732.105    1         3\n",
       "4      159.597  1845.072  1732.103    1         4\n",
       "...        ...       ...       ...  ...       ...\n",
       "35996  160.090  1837.312  1715.629    1     35996\n",
       "35997  160.122  1837.488  1715.619    1     35997\n",
       "35998  160.128  1837.653  1715.597    1     35998\n",
       "35999  160.147  1837.829  1715.599    1     35999\n",
       "36000  160.141  1837.983  1715.592    1     36000\n",
       "\n",
       "[36001 rows x 5 columns]"
      ]
     },
     "execution_count": 19,
     "metadata": {},
     "output_type": "execute_result"
    }
   ],
   "source": [
    "motion1"
   ]
  },
  {
   "cell_type": "code",
   "execution_count": 74,
   "metadata": {},
   "outputs": [],
   "source": [
    "def Import_Participant_Motion(par_list):\n",
    "    #import each participant motion data from the file, add datetime index and resample to 2 tenths of a second\n",
    "    #output dictionary of dataframes of motion\n",
    "    output = {}\n",
    "    time = pd.date_range(start='00:00', freq='10L', periods=35601)\n",
    "    time = time.strftime('%M:%S.%f')\n",
    "    for participant in par_list:\n",
    "        motiont = feather.read_feather('Participant_Motion/' + participant)\n",
    "        motiont = motiont.iloc[:35601].set_index(time)\n",
    "        motiont.index = pd.to_datetime(motiont.index, format='%M:%S.%f')\n",
    "        motionr = motiont.resample('200L').mean()\n",
    "        motionr = motionr.reset_index()\n",
    "        output[participant] = motionr\n",
    "    return output"
   ]
  },
  {
   "cell_type": "markdown",
   "metadata": {},
   "source": [
    "There is some variation for the total length of motion data across the participants. We have limitied the data to the smallest value which cuts off the last 4 seconds of the recordings so as to cause bias by using data at the end of the song that is only from a limited section of participants"
   ]
  },
  {
   "cell_type": "code",
   "execution_count": 21,
   "metadata": {},
   "outputs": [],
   "source": [
    "import os"
   ]
  },
  {
   "cell_type": "code",
   "execution_count": 67,
   "metadata": {
    "scrolled": true
   },
   "outputs": [],
   "source": [
    "par_motion_list = os.listdir('Participant_Motion')\n"
   ]
  },
  {
   "cell_type": "code",
   "execution_count": null,
   "metadata": {},
   "outputs": [],
   "source": []
  },
  {
   "cell_type": "code",
   "execution_count": 94,
   "metadata": {},
   "outputs": [],
   "source": [
    "motion_dict = Import_Participant_Motion(par_motion_list)"
   ]
  },
  {
   "cell_type": "code",
   "execution_count": 89,
   "metadata": {},
   "outputs": [
    {
     "data": {
      "text/html": [
       "<div>\n",
       "<style scoped>\n",
       "    .dataframe tbody tr th:only-of-type {\n",
       "        vertical-align: middle;\n",
       "    }\n",
       "\n",
       "    .dataframe tbody tr th {\n",
       "        vertical-align: top;\n",
       "    }\n",
       "\n",
       "    .dataframe thead th {\n",
       "        text-align: right;\n",
       "    }\n",
       "</style>\n",
       "<table border=\"1\" class=\"dataframe\">\n",
       "  <thead>\n",
       "    <tr style=\"text-align: right;\">\n",
       "      <th></th>\n",
       "      <th>index</th>\n",
       "      <th>X</th>\n",
       "      <th>Y</th>\n",
       "      <th>Z</th>\n",
       "      <th>PID</th>\n",
       "    </tr>\n",
       "  </thead>\n",
       "  <tbody>\n",
       "    <tr>\n",
       "      <th>0</th>\n",
       "      <td>1900-01-01 00:00:00.000</td>\n",
       "      <td>983.71885</td>\n",
       "      <td>1798.82115</td>\n",
       "      <td>1773.37345</td>\n",
       "      <td>10</td>\n",
       "    </tr>\n",
       "    <tr>\n",
       "      <th>1</th>\n",
       "      <td>1900-01-01 00:00:00.200</td>\n",
       "      <td>982.49355</td>\n",
       "      <td>1799.03930</td>\n",
       "      <td>1773.41555</td>\n",
       "      <td>10</td>\n",
       "    </tr>\n",
       "    <tr>\n",
       "      <th>2</th>\n",
       "      <td>1900-01-01 00:00:00.400</td>\n",
       "      <td>980.76175</td>\n",
       "      <td>1798.55955</td>\n",
       "      <td>1773.43950</td>\n",
       "      <td>10</td>\n",
       "    </tr>\n",
       "    <tr>\n",
       "      <th>3</th>\n",
       "      <td>1900-01-01 00:00:00.600</td>\n",
       "      <td>979.80755</td>\n",
       "      <td>1796.75025</td>\n",
       "      <td>1773.54110</td>\n",
       "      <td>10</td>\n",
       "    </tr>\n",
       "    <tr>\n",
       "      <th>4</th>\n",
       "      <td>1900-01-01 00:00:00.800</td>\n",
       "      <td>980.24215</td>\n",
       "      <td>1796.71095</td>\n",
       "      <td>1773.50675</td>\n",
       "      <td>10</td>\n",
       "    </tr>\n",
       "    <tr>\n",
       "      <th>...</th>\n",
       "      <td>...</td>\n",
       "      <td>...</td>\n",
       "      <td>...</td>\n",
       "      <td>...</td>\n",
       "      <td>...</td>\n",
       "    </tr>\n",
       "    <tr>\n",
       "      <th>1776</th>\n",
       "      <td>1900-01-01 00:05:55.200</td>\n",
       "      <td>984.35440</td>\n",
       "      <td>1825.30950</td>\n",
       "      <td>1768.39915</td>\n",
       "      <td>10</td>\n",
       "    </tr>\n",
       "    <tr>\n",
       "      <th>1777</th>\n",
       "      <td>1900-01-01 00:05:55.400</td>\n",
       "      <td>984.08315</td>\n",
       "      <td>1826.30870</td>\n",
       "      <td>1768.39805</td>\n",
       "      <td>10</td>\n",
       "    </tr>\n",
       "    <tr>\n",
       "      <th>1778</th>\n",
       "      <td>1900-01-01 00:05:55.600</td>\n",
       "      <td>983.66335</td>\n",
       "      <td>1827.15250</td>\n",
       "      <td>1768.37490</td>\n",
       "      <td>10</td>\n",
       "    </tr>\n",
       "    <tr>\n",
       "      <th>1779</th>\n",
       "      <td>1900-01-01 00:05:55.800</td>\n",
       "      <td>982.96215</td>\n",
       "      <td>1827.45955</td>\n",
       "      <td>1768.39455</td>\n",
       "      <td>10</td>\n",
       "    </tr>\n",
       "    <tr>\n",
       "      <th>1780</th>\n",
       "      <td>1900-01-01 00:05:56.000</td>\n",
       "      <td>982.95900</td>\n",
       "      <td>1827.86800</td>\n",
       "      <td>1768.30600</td>\n",
       "      <td>10</td>\n",
       "    </tr>\n",
       "  </tbody>\n",
       "</table>\n",
       "<p>1781 rows × 5 columns</p>\n",
       "</div>"
      ],
      "text/plain": [
       "                       index          X           Y           Z  PID\n",
       "0    1900-01-01 00:00:00.000  983.71885  1798.82115  1773.37345   10\n",
       "1    1900-01-01 00:00:00.200  982.49355  1799.03930  1773.41555   10\n",
       "2    1900-01-01 00:00:00.400  980.76175  1798.55955  1773.43950   10\n",
       "3    1900-01-01 00:00:00.600  979.80755  1796.75025  1773.54110   10\n",
       "4    1900-01-01 00:00:00.800  980.24215  1796.71095  1773.50675   10\n",
       "...                      ...        ...         ...         ...  ...\n",
       "1776 1900-01-01 00:05:55.200  984.35440  1825.30950  1768.39915   10\n",
       "1777 1900-01-01 00:05:55.400  984.08315  1826.30870  1768.39805   10\n",
       "1778 1900-01-01 00:05:55.600  983.66335  1827.15250  1768.37490   10\n",
       "1779 1900-01-01 00:05:55.800  982.96215  1827.45955  1768.39455   10\n",
       "1780 1900-01-01 00:05:56.000  982.95900  1827.86800  1768.30600   10\n",
       "\n",
       "[1781 rows x 5 columns]"
      ]
     },
     "execution_count": 89,
     "metadata": {},
     "output_type": "execute_result"
    }
   ],
   "source": [
    "motion_dict['PID_motion_10']"
   ]
  },
  {
   "cell_type": "code",
   "execution_count": 95,
   "metadata": {},
   "outputs": [],
   "source": [
    "bunch = motion_dict['PID_motion_1']\n",
    "for participant in par_motion_list[1:]:\n",
    "    bunch = pd.concat([bunch, motion_dict[participant]], join='outer')"
   ]
  },
  {
   "cell_type": "code",
   "execution_count": 97,
   "metadata": {},
   "outputs": [],
   "source": [
    "bunch = bunch.sort_values(by='index')"
   ]
  },
  {
   "cell_type": "code",
   "execution_count": 99,
   "metadata": {},
   "outputs": [
    {
     "data": {
      "text/html": [
       "<div>\n",
       "<style scoped>\n",
       "    .dataframe tbody tr th:only-of-type {\n",
       "        vertical-align: middle;\n",
       "    }\n",
       "\n",
       "    .dataframe tbody tr th {\n",
       "        vertical-align: top;\n",
       "    }\n",
       "\n",
       "    .dataframe thead th {\n",
       "        text-align: right;\n",
       "    }\n",
       "</style>\n",
       "<table border=\"1\" class=\"dataframe\">\n",
       "  <thead>\n",
       "    <tr style=\"text-align: right;\">\n",
       "      <th></th>\n",
       "      <th>index</th>\n",
       "      <th>X</th>\n",
       "      <th>Y</th>\n",
       "      <th>Z</th>\n",
       "      <th>PID</th>\n",
       "    </tr>\n",
       "  </thead>\n",
       "  <tbody>\n",
       "    <tr>\n",
       "      <th>0</th>\n",
       "      <td>1900-01-01 00:00:00.000</td>\n",
       "      <td>1773.13555</td>\n",
       "      <td>966.17255</td>\n",
       "      <td>1705.14140</td>\n",
       "      <td>24</td>\n",
       "    </tr>\n",
       "    <tr>\n",
       "      <th>1</th>\n",
       "      <td>1900-01-01 00:00:00.200</td>\n",
       "      <td>1774.34025</td>\n",
       "      <td>966.03585</td>\n",
       "      <td>1704.72575</td>\n",
       "      <td>24</td>\n",
       "    </tr>\n",
       "    <tr>\n",
       "      <th>2</th>\n",
       "      <td>1900-01-01 00:00:00.400</td>\n",
       "      <td>1775.35690</td>\n",
       "      <td>965.23255</td>\n",
       "      <td>1704.61140</td>\n",
       "      <td>24</td>\n",
       "    </tr>\n",
       "    <tr>\n",
       "      <th>3</th>\n",
       "      <td>1900-01-01 00:00:00.600</td>\n",
       "      <td>1776.48505</td>\n",
       "      <td>967.20900</td>\n",
       "      <td>1704.31145</td>\n",
       "      <td>24</td>\n",
       "    </tr>\n",
       "    <tr>\n",
       "      <th>4</th>\n",
       "      <td>1900-01-01 00:00:00.800</td>\n",
       "      <td>1776.07525</td>\n",
       "      <td>970.53165</td>\n",
       "      <td>1704.15400</td>\n",
       "      <td>24</td>\n",
       "    </tr>\n",
       "    <tr>\n",
       "      <th>...</th>\n",
       "      <td>...</td>\n",
       "      <td>...</td>\n",
       "      <td>...</td>\n",
       "      <td>...</td>\n",
       "      <td>...</td>\n",
       "    </tr>\n",
       "    <tr>\n",
       "      <th>1776</th>\n",
       "      <td>1900-01-01 00:05:55.200</td>\n",
       "      <td>1779.35100</td>\n",
       "      <td>988.12345</td>\n",
       "      <td>1704.36105</td>\n",
       "      <td>24</td>\n",
       "    </tr>\n",
       "    <tr>\n",
       "      <th>1777</th>\n",
       "      <td>1900-01-01 00:05:55.400</td>\n",
       "      <td>1778.28195</td>\n",
       "      <td>987.17395</td>\n",
       "      <td>1704.62225</td>\n",
       "      <td>24</td>\n",
       "    </tr>\n",
       "    <tr>\n",
       "      <th>1778</th>\n",
       "      <td>1900-01-01 00:05:55.600</td>\n",
       "      <td>1777.61850</td>\n",
       "      <td>988.02800</td>\n",
       "      <td>1704.57015</td>\n",
       "      <td>24</td>\n",
       "    </tr>\n",
       "    <tr>\n",
       "      <th>1779</th>\n",
       "      <td>1900-01-01 00:05:55.800</td>\n",
       "      <td>1776.96410</td>\n",
       "      <td>989.37175</td>\n",
       "      <td>1704.34535</td>\n",
       "      <td>24</td>\n",
       "    </tr>\n",
       "    <tr>\n",
       "      <th>1780</th>\n",
       "      <td>1900-01-01 00:05:56.000</td>\n",
       "      <td>1776.56200</td>\n",
       "      <td>989.64300</td>\n",
       "      <td>1704.34700</td>\n",
       "      <td>24</td>\n",
       "    </tr>\n",
       "  </tbody>\n",
       "</table>\n",
       "<p>1781 rows × 5 columns</p>\n",
       "</div>"
      ],
      "text/plain": [
       "                       index           X          Y           Z  PID\n",
       "0    1900-01-01 00:00:00.000  1773.13555  966.17255  1705.14140   24\n",
       "1    1900-01-01 00:00:00.200  1774.34025  966.03585  1704.72575   24\n",
       "2    1900-01-01 00:00:00.400  1775.35690  965.23255  1704.61140   24\n",
       "3    1900-01-01 00:00:00.600  1776.48505  967.20900  1704.31145   24\n",
       "4    1900-01-01 00:00:00.800  1776.07525  970.53165  1704.15400   24\n",
       "...                      ...         ...        ...         ...  ...\n",
       "1776 1900-01-01 00:05:55.200  1779.35100  988.12345  1704.36105   24\n",
       "1777 1900-01-01 00:05:55.400  1778.28195  987.17395  1704.62225   24\n",
       "1778 1900-01-01 00:05:55.600  1777.61850  988.02800  1704.57015   24\n",
       "1779 1900-01-01 00:05:55.800  1776.96410  989.37175  1704.34535   24\n",
       "1780 1900-01-01 00:05:56.000  1776.56200  989.64300  1704.34700   24\n",
       "\n",
       "[1781 rows x 5 columns]"
      ]
     },
     "execution_count": 99,
     "metadata": {},
     "output_type": "execute_result"
    }
   ],
   "source": [
    "motion_dict['PID_motion_24']"
   ]
  },
  {
   "cell_type": "code",
   "execution_count": null,
   "metadata": {},
   "outputs": [],
   "source": []
  },
  {
   "cell_type": "code",
   "execution_count": null,
   "metadata": {},
   "outputs": [],
   "source": []
  },
  {
   "cell_type": "code",
   "execution_count": null,
   "metadata": {},
   "outputs": [],
   "source": []
  }
 ],
 "metadata": {
  "kernelspec": {
   "display_name": "Python 3",
   "language": "python",
   "name": "python3"
  },
  "language_info": {
   "codemirror_mode": {
    "name": "ipython",
    "version": 3
   },
   "file_extension": ".py",
   "mimetype": "text/x-python",
   "name": "python",
   "nbconvert_exporter": "python",
   "pygments_lexer": "ipython3",
   "version": "3.7.10"
  }
 },
 "nbformat": 4,
 "nbformat_minor": 4
}
