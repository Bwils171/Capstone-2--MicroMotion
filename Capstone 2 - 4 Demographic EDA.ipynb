{
 "cells": [
  {
   "cell_type": "code",
   "execution_count": 1,
   "metadata": {},
   "outputs": [],
   "source": [
    "%matplotlib inline\n",
    "import pandas as pd\n",
    "import librosa as lib\n",
    "import librosa.display\n",
    "import numpy as np\n",
    "import matplotlib.pyplot as plt\n",
    "import seaborn as sns\n",
    "from IPython.display import Audio\n",
    "import scipy\n",
    "import pyarrow.feather as feather"
   ]
  },
  {
   "cell_type": "code",
   "execution_count": 3,
   "metadata": {},
   "outputs": [],
   "source": [
    "#import demographic information dataframe, includes all participants, but we will only use partiicpant 1 info for now\n",
    "demos = feather.read_feather('demos_clean')"
   ]
  },
  {
   "cell_type": "markdown",
   "metadata": {},
   "source": [
    "Reminder of what dataframe look like"
   ]
  },
  {
   "cell_type": "code",
   "execution_count": 4,
   "metadata": {},
   "outputs": [
    {
     "data": {
      "text/html": [
       "<div>\n",
       "<style scoped>\n",
       "    .dataframe tbody tr th:only-of-type {\n",
       "        vertical-align: middle;\n",
       "    }\n",
       "\n",
       "    .dataframe tbody tr th {\n",
       "        vertical-align: top;\n",
       "    }\n",
       "\n",
       "    .dataframe thead th {\n",
       "        text-align: right;\n",
       "    }\n",
       "</style>\n",
       "<table border=\"1\" class=\"dataframe\">\n",
       "  <thead>\n",
       "    <tr style=\"text-align: right;\">\n",
       "      <th></th>\n",
       "      <th>Group</th>\n",
       "      <th>Subject</th>\n",
       "      <th>Age</th>\n",
       "      <th>Sex</th>\n",
       "      <th>Height</th>\n",
       "      <th>Listen</th>\n",
       "      <th>Produce</th>\n",
       "      <th>Dance</th>\n",
       "      <th>Exercise</th>\n",
       "      <th>Tiresome</th>\n",
       "      <th>Exper_silent</th>\n",
       "      <th>Exper_music</th>\n",
       "      <th>Eyes</th>\n",
       "      <th>Knees</th>\n",
       "      <th>Mean QoM</th>\n",
       "      <th>Mean QoM w/oM</th>\n",
       "      <th>Mean QoM w M</th>\n",
       "      <th>NoMus-Mus Diff</th>\n",
       "      <th>PID</th>\n",
       "    </tr>\n",
       "  </thead>\n",
       "  <tbody>\n",
       "    <tr>\n",
       "      <th>0</th>\n",
       "      <td>A</td>\n",
       "      <td>1</td>\n",
       "      <td>23</td>\n",
       "      <td>M</td>\n",
       "      <td>1.72</td>\n",
       "      <td>5</td>\n",
       "      <td>30.0</td>\n",
       "      <td>1.0</td>\n",
       "      <td>7.0</td>\n",
       "      <td>3</td>\n",
       "      <td>3.0</td>\n",
       "      <td>2</td>\n",
       "      <td>1.0</td>\n",
       "      <td>1.0</td>\n",
       "      <td>8.271082</td>\n",
       "      <td>7.955534</td>\n",
       "      <td>8.586613</td>\n",
       "      <td>0.631079</td>\n",
       "      <td>1</td>\n",
       "    </tr>\n",
       "    <tr>\n",
       "      <th>1</th>\n",
       "      <td>A</td>\n",
       "      <td>2</td>\n",
       "      <td>24</td>\n",
       "      <td>M</td>\n",
       "      <td>1.67</td>\n",
       "      <td>10</td>\n",
       "      <td>10.0</td>\n",
       "      <td>2.0</td>\n",
       "      <td>10.0</td>\n",
       "      <td>1</td>\n",
       "      <td>2.0</td>\n",
       "      <td>2</td>\n",
       "      <td>1.0</td>\n",
       "      <td>1.0</td>\n",
       "      <td>11.224096</td>\n",
       "      <td>10.627763</td>\n",
       "      <td>11.820396</td>\n",
       "      <td>1.192633</td>\n",
       "      <td>2</td>\n",
       "    </tr>\n",
       "    <tr>\n",
       "      <th>2</th>\n",
       "      <td>A</td>\n",
       "      <td>3</td>\n",
       "      <td>27</td>\n",
       "      <td>F</td>\n",
       "      <td>1.63</td>\n",
       "      <td>14</td>\n",
       "      <td>1.0</td>\n",
       "      <td>4.0</td>\n",
       "      <td>3.0</td>\n",
       "      <td>4</td>\n",
       "      <td>3.0</td>\n",
       "      <td>4</td>\n",
       "      <td>0.0</td>\n",
       "      <td>0.5</td>\n",
       "      <td>6.441350</td>\n",
       "      <td>6.063694</td>\n",
       "      <td>6.818985</td>\n",
       "      <td>0.755291</td>\n",
       "      <td>3</td>\n",
       "    </tr>\n",
       "    <tr>\n",
       "      <th>3</th>\n",
       "      <td>A</td>\n",
       "      <td>4</td>\n",
       "      <td>27</td>\n",
       "      <td>M</td>\n",
       "      <td>1.75</td>\n",
       "      <td>5</td>\n",
       "      <td>20.0</td>\n",
       "      <td>2.0</td>\n",
       "      <td>2.0</td>\n",
       "      <td>4</td>\n",
       "      <td>5.0</td>\n",
       "      <td>3</td>\n",
       "      <td>1.0</td>\n",
       "      <td>1.0</td>\n",
       "      <td>5.216179</td>\n",
       "      <td>5.289182</td>\n",
       "      <td>5.143181</td>\n",
       "      <td>-0.146001</td>\n",
       "      <td>4</td>\n",
       "    </tr>\n",
       "    <tr>\n",
       "      <th>4</th>\n",
       "      <td>A</td>\n",
       "      <td>9</td>\n",
       "      <td>24</td>\n",
       "      <td>F</td>\n",
       "      <td>1.64</td>\n",
       "      <td>15</td>\n",
       "      <td>0.0</td>\n",
       "      <td>2.0</td>\n",
       "      <td>6.0</td>\n",
       "      <td>2</td>\n",
       "      <td>2.0</td>\n",
       "      <td>1</td>\n",
       "      <td>1.0</td>\n",
       "      <td>1.0</td>\n",
       "      <td>5.151870</td>\n",
       "      <td>4.940202</td>\n",
       "      <td>5.363525</td>\n",
       "      <td>0.423323</td>\n",
       "      <td>5</td>\n",
       "    </tr>\n",
       "  </tbody>\n",
       "</table>\n",
       "</div>"
      ],
      "text/plain": [
       "  Group  Subject  Age Sex  Height  Listen  Produce  Dance  Exercise  Tiresome  \\\n",
       "0     A        1   23   M    1.72       5     30.0    1.0       7.0         3   \n",
       "1     A        2   24   M    1.67      10     10.0    2.0      10.0         1   \n",
       "2     A        3   27   F    1.63      14      1.0    4.0       3.0         4   \n",
       "3     A        4   27   M    1.75       5     20.0    2.0       2.0         4   \n",
       "4     A        9   24   F    1.64      15      0.0    2.0       6.0         2   \n",
       "\n",
       "   Exper_silent  Exper_music  Eyes  Knees   Mean QoM  Mean QoM w/oM  \\\n",
       "0           3.0            2   1.0    1.0   8.271082       7.955534   \n",
       "1           2.0            2   1.0    1.0  11.224096      10.627763   \n",
       "2           3.0            4   0.0    0.5   6.441350       6.063694   \n",
       "3           5.0            3   1.0    1.0   5.216179       5.289182   \n",
       "4           2.0            1   1.0    1.0   5.151870       4.940202   \n",
       "\n",
       "   Mean QoM w M  NoMus-Mus Diff  PID  \n",
       "0      8.586613        0.631079    1  \n",
       "1     11.820396        1.192633    2  \n",
       "2      6.818985        0.755291    3  \n",
       "3      5.143181       -0.146001    4  \n",
       "4      5.363525        0.423323    5  "
      ]
     },
     "execution_count": 4,
     "metadata": {},
     "output_type": "execute_result"
    }
   ],
   "source": [
    "demos.head()"
   ]
  },
  {
   "cell_type": "code",
   "execution_count": 5,
   "metadata": {},
   "outputs": [
    {
     "data": {
      "text/plain": [
       "array(['A', 'B', 'C', 'D', 'E', 'F', 'G', 'H'], dtype=object)"
      ]
     },
     "execution_count": 5,
     "metadata": {},
     "output_type": "execute_result"
    }
   ],
   "source": [
    "# to match with cleaned motion data we need to drop group P and participant 56\n",
    "demos = demos.loc[demos['Group'] != 'P']\n",
    "demos['Group'].unique()"
   ]
  },
  {
   "cell_type": "code",
   "execution_count": 6,
   "metadata": {},
   "outputs": [
    {
     "data": {
      "text/plain": [
       "(73, 19)"
      ]
     },
     "execution_count": 6,
     "metadata": {},
     "output_type": "execute_result"
    }
   ],
   "source": [
    "demos = demos.loc[demos['PID']!=56]\n",
    "demos.shape"
   ]
  },
  {
   "cell_type": "markdown",
   "metadata": {},
   "source": [
    "This matches with our useable motion data, participants numbered 1-74 with no number 56."
   ]
  },
  {
   "cell_type": "markdown",
   "metadata": {},
   "source": [
    "### Demograhpic EDA"
   ]
  },
  {
   "cell_type": "markdown",
   "metadata": {},
   "source": [
    "There are number of columns that include questionaire data and motion data that isn't available until after the test is complete. In order to only be using the data which is available at the time the prediction needs to be made we will be dropping the columns that contain this ex-post data"
   ]
  },
  {
   "cell_type": "code",
   "execution_count": 8,
   "metadata": {},
   "outputs": [],
   "source": [
    "demos_clean = demos.drop(columns=['Group', 'Subject', 'Exper_silent', 'Exper_music', 'Eyes',\n",
    "       'Knees', 'Mean QoM', 'Mean QoM w/oM', 'Mean QoM w M', 'NoMus-Mus Diff'])"
   ]
  },
  {
   "cell_type": "code",
   "execution_count": 9,
   "metadata": {},
   "outputs": [
    {
     "data": {
      "text/html": [
       "<div>\n",
       "<style scoped>\n",
       "    .dataframe tbody tr th:only-of-type {\n",
       "        vertical-align: middle;\n",
       "    }\n",
       "\n",
       "    .dataframe tbody tr th {\n",
       "        vertical-align: top;\n",
       "    }\n",
       "\n",
       "    .dataframe thead th {\n",
       "        text-align: right;\n",
       "    }\n",
       "</style>\n",
       "<table border=\"1\" class=\"dataframe\">\n",
       "  <thead>\n",
       "    <tr style=\"text-align: right;\">\n",
       "      <th></th>\n",
       "      <th>Age</th>\n",
       "      <th>Sex</th>\n",
       "      <th>Height</th>\n",
       "      <th>Listen</th>\n",
       "      <th>Produce</th>\n",
       "      <th>Dance</th>\n",
       "      <th>Exercise</th>\n",
       "      <th>Tiresome</th>\n",
       "      <th>PID</th>\n",
       "    </tr>\n",
       "  </thead>\n",
       "  <tbody>\n",
       "    <tr>\n",
       "      <th>0</th>\n",
       "      <td>23</td>\n",
       "      <td>0.0</td>\n",
       "      <td>1.72</td>\n",
       "      <td>5</td>\n",
       "      <td>30.0</td>\n",
       "      <td>1.0</td>\n",
       "      <td>7.0</td>\n",
       "      <td>3</td>\n",
       "      <td>1</td>\n",
       "    </tr>\n",
       "    <tr>\n",
       "      <th>1</th>\n",
       "      <td>24</td>\n",
       "      <td>0.0</td>\n",
       "      <td>1.67</td>\n",
       "      <td>10</td>\n",
       "      <td>10.0</td>\n",
       "      <td>2.0</td>\n",
       "      <td>10.0</td>\n",
       "      <td>1</td>\n",
       "      <td>2</td>\n",
       "    </tr>\n",
       "    <tr>\n",
       "      <th>2</th>\n",
       "      <td>27</td>\n",
       "      <td>1.0</td>\n",
       "      <td>1.63</td>\n",
       "      <td>14</td>\n",
       "      <td>1.0</td>\n",
       "      <td>4.0</td>\n",
       "      <td>3.0</td>\n",
       "      <td>4</td>\n",
       "      <td>3</td>\n",
       "    </tr>\n",
       "    <tr>\n",
       "      <th>3</th>\n",
       "      <td>27</td>\n",
       "      <td>0.0</td>\n",
       "      <td>1.75</td>\n",
       "      <td>5</td>\n",
       "      <td>20.0</td>\n",
       "      <td>2.0</td>\n",
       "      <td>2.0</td>\n",
       "      <td>4</td>\n",
       "      <td>4</td>\n",
       "    </tr>\n",
       "    <tr>\n",
       "      <th>4</th>\n",
       "      <td>24</td>\n",
       "      <td>1.0</td>\n",
       "      <td>1.64</td>\n",
       "      <td>15</td>\n",
       "      <td>0.0</td>\n",
       "      <td>2.0</td>\n",
       "      <td>6.0</td>\n",
       "      <td>2</td>\n",
       "      <td>5</td>\n",
       "    </tr>\n",
       "    <tr>\n",
       "      <th>...</th>\n",
       "      <td>...</td>\n",
       "      <td>...</td>\n",
       "      <td>...</td>\n",
       "      <td>...</td>\n",
       "      <td>...</td>\n",
       "      <td>...</td>\n",
       "      <td>...</td>\n",
       "      <td>...</td>\n",
       "      <td>...</td>\n",
       "    </tr>\n",
       "    <tr>\n",
       "      <th>69</th>\n",
       "      <td>26</td>\n",
       "      <td>0.0</td>\n",
       "      <td>1.72</td>\n",
       "      <td>8</td>\n",
       "      <td>10.0</td>\n",
       "      <td>1.0</td>\n",
       "      <td>4.0</td>\n",
       "      <td>1</td>\n",
       "      <td>70</td>\n",
       "    </tr>\n",
       "    <tr>\n",
       "      <th>70</th>\n",
       "      <td>24</td>\n",
       "      <td>0.0</td>\n",
       "      <td>1.71</td>\n",
       "      <td>12</td>\n",
       "      <td>10.0</td>\n",
       "      <td>2.0</td>\n",
       "      <td>7.0</td>\n",
       "      <td>1</td>\n",
       "      <td>71</td>\n",
       "    </tr>\n",
       "    <tr>\n",
       "      <th>71</th>\n",
       "      <td>65</td>\n",
       "      <td>1.0</td>\n",
       "      <td>1.73</td>\n",
       "      <td>4</td>\n",
       "      <td>0.0</td>\n",
       "      <td>2.0</td>\n",
       "      <td>2.0</td>\n",
       "      <td>2</td>\n",
       "      <td>72</td>\n",
       "    </tr>\n",
       "    <tr>\n",
       "      <th>72</th>\n",
       "      <td>45</td>\n",
       "      <td>1.0</td>\n",
       "      <td>1.67</td>\n",
       "      <td>5</td>\n",
       "      <td>0.0</td>\n",
       "      <td>0.0</td>\n",
       "      <td>3.0</td>\n",
       "      <td>1</td>\n",
       "      <td>73</td>\n",
       "    </tr>\n",
       "    <tr>\n",
       "      <th>73</th>\n",
       "      <td>55</td>\n",
       "      <td>0.0</td>\n",
       "      <td>1.75</td>\n",
       "      <td>12</td>\n",
       "      <td>8.0</td>\n",
       "      <td>0.0</td>\n",
       "      <td>0.0</td>\n",
       "      <td>2</td>\n",
       "      <td>74</td>\n",
       "    </tr>\n",
       "  </tbody>\n",
       "</table>\n",
       "<p>73 rows × 9 columns</p>\n",
       "</div>"
      ],
      "text/plain": [
       "    Age  Sex  Height  Listen  Produce  Dance  Exercise  Tiresome  PID\n",
       "0    23  0.0    1.72       5     30.0    1.0       7.0         3    1\n",
       "1    24  0.0    1.67      10     10.0    2.0      10.0         1    2\n",
       "2    27  1.0    1.63      14      1.0    4.0       3.0         4    3\n",
       "3    27  0.0    1.75       5     20.0    2.0       2.0         4    4\n",
       "4    24  1.0    1.64      15      0.0    2.0       6.0         2    5\n",
       "..  ...  ...     ...     ...      ...    ...       ...       ...  ...\n",
       "69   26  0.0    1.72       8     10.0    1.0       4.0         1   70\n",
       "70   24  0.0    1.71      12     10.0    2.0       7.0         1   71\n",
       "71   65  1.0    1.73       4      0.0    2.0       2.0         2   72\n",
       "72   45  1.0    1.67       5      0.0    0.0       3.0         1   73\n",
       "73   55  0.0    1.75      12      8.0    0.0       0.0         2   74\n",
       "\n",
       "[73 rows x 9 columns]"
      ]
     },
     "execution_count": 9,
     "metadata": {},
     "output_type": "execute_result"
    }
   ],
   "source": [
    "demos_clean['Sex'].replace({'M':0, 'F':1}, inplace=True)\n",
    "demos_clean"
   ]
  },
  {
   "cell_type": "code",
   "execution_count": 10,
   "metadata": {},
   "outputs": [
    {
     "data": {
      "image/png": "[encoded data removed]",
      "text/plain": [
       "<Figure size 1296x1728 with 8 Axes>"
      ]
     },
     "metadata": {
      "needs_background": "light"
     },
     "output_type": "display_data"
    }
   ],
   "source": [
    "#Plotting the boxplots for each column of the demographics data remaining\n",
    "columns = list(demos_clean.columns)\n",
    "fig, axes = plt.subplots(8, 1, figsize=(18, 24))\n",
    "for i in range(0,8):\n",
    "    sns.boxplot(x=demos_clean.iloc[:,i], data=demos_clean, orient='h', ax=axes[i])\n",
    "    axes[i].set_xlabel(demos_clean.columns[i])\n",
    "plt.tight_layout()\n",
    "plt.show()"
   ]
  },
  {
   "cell_type": "code",
   "execution_count": 11,
   "metadata": {},
   "outputs": [
    {
     "data": {
      "text/html": [
       "<div>\n",
       "<style scoped>\n",
       "    .dataframe tbody tr th:only-of-type {\n",
       "        vertical-align: middle;\n",
       "    }\n",
       "\n",
       "    .dataframe tbody tr th {\n",
       "        vertical-align: top;\n",
       "    }\n",
       "\n",
       "    .dataframe thead th {\n",
       "        text-align: right;\n",
       "    }\n",
       "</style>\n",
       "<table border=\"1\" class=\"dataframe\">\n",
       "  <thead>\n",
       "    <tr style=\"text-align: right;\">\n",
       "      <th></th>\n",
       "      <th>Age</th>\n",
       "      <th>Sex</th>\n",
       "      <th>Height</th>\n",
       "      <th>Listen</th>\n",
       "      <th>Produce</th>\n",
       "      <th>Dance</th>\n",
       "      <th>Exercise</th>\n",
       "      <th>Tiresome</th>\n",
       "      <th>PID</th>\n",
       "    </tr>\n",
       "  </thead>\n",
       "  <tbody>\n",
       "    <tr>\n",
       "      <th>count</th>\n",
       "      <td>73.000000</td>\n",
       "      <td>72.000000</td>\n",
       "      <td>73.000000</td>\n",
       "      <td>73.000000</td>\n",
       "      <td>73.000000</td>\n",
       "      <td>73.000000</td>\n",
       "      <td>73.000000</td>\n",
       "      <td>73.000000</td>\n",
       "      <td>73.000000</td>\n",
       "    </tr>\n",
       "    <tr>\n",
       "      <th>mean</th>\n",
       "      <td>26.561644</td>\n",
       "      <td>0.458333</td>\n",
       "      <td>1.733836</td>\n",
       "      <td>19.315068</td>\n",
       "      <td>8.143836</td>\n",
       "      <td>2.127397</td>\n",
       "      <td>3.821918</td>\n",
       "      <td>2.630137</td>\n",
       "      <td>37.246575</td>\n",
       "    </tr>\n",
       "    <tr>\n",
       "      <th>std</th>\n",
       "      <td>12.110586</td>\n",
       "      <td>0.501757</td>\n",
       "      <td>0.097463</td>\n",
       "      <td>14.472077</td>\n",
       "      <td>9.262934</td>\n",
       "      <td>2.012824</td>\n",
       "      <td>3.578844</td>\n",
       "      <td>1.034231</td>\n",
       "      <td>21.543097</td>\n",
       "    </tr>\n",
       "    <tr>\n",
       "      <th>min</th>\n",
       "      <td>16.000000</td>\n",
       "      <td>0.000000</td>\n",
       "      <td>1.460000</td>\n",
       "      <td>1.000000</td>\n",
       "      <td>0.000000</td>\n",
       "      <td>0.000000</td>\n",
       "      <td>0.000000</td>\n",
       "      <td>1.000000</td>\n",
       "      <td>1.000000</td>\n",
       "    </tr>\n",
       "    <tr>\n",
       "      <th>25%</th>\n",
       "      <td>19.000000</td>\n",
       "      <td>0.000000</td>\n",
       "      <td>1.670000</td>\n",
       "      <td>10.000000</td>\n",
       "      <td>0.000000</td>\n",
       "      <td>0.300000</td>\n",
       "      <td>2.000000</td>\n",
       "      <td>2.000000</td>\n",
       "      <td>19.000000</td>\n",
       "    </tr>\n",
       "    <tr>\n",
       "      <th>50%</th>\n",
       "      <td>23.000000</td>\n",
       "      <td>0.000000</td>\n",
       "      <td>1.730000</td>\n",
       "      <td>15.000000</td>\n",
       "      <td>5.000000</td>\n",
       "      <td>2.000000</td>\n",
       "      <td>3.000000</td>\n",
       "      <td>3.000000</td>\n",
       "      <td>37.000000</td>\n",
       "    </tr>\n",
       "    <tr>\n",
       "      <th>75%</th>\n",
       "      <td>27.000000</td>\n",
       "      <td>1.000000</td>\n",
       "      <td>1.800000</td>\n",
       "      <td>25.000000</td>\n",
       "      <td>10.000000</td>\n",
       "      <td>4.000000</td>\n",
       "      <td>5.000000</td>\n",
       "      <td>3.000000</td>\n",
       "      <td>55.000000</td>\n",
       "    </tr>\n",
       "    <tr>\n",
       "      <th>max</th>\n",
       "      <td>67.000000</td>\n",
       "      <td>1.000000</td>\n",
       "      <td>1.970000</td>\n",
       "      <td>90.000000</td>\n",
       "      <td>40.000000</td>\n",
       "      <td>10.000000</td>\n",
       "      <td>19.000000</td>\n",
       "      <td>5.000000</td>\n",
       "      <td>74.000000</td>\n",
       "    </tr>\n",
       "  </tbody>\n",
       "</table>\n",
       "</div>"
      ],
      "text/plain": [
       "             Age        Sex     Height     Listen    Produce      Dance  \\\n",
       "count  73.000000  72.000000  73.000000  73.000000  73.000000  73.000000   \n",
       "mean   26.561644   0.458333   1.733836  19.315068   8.143836   2.127397   \n",
       "std    12.110586   0.501757   0.097463  14.472077   9.262934   2.012824   \n",
       "min    16.000000   0.000000   1.460000   1.000000   0.000000   0.000000   \n",
       "25%    19.000000   0.000000   1.670000  10.000000   0.000000   0.300000   \n",
       "50%    23.000000   0.000000   1.730000  15.000000   5.000000   2.000000   \n",
       "75%    27.000000   1.000000   1.800000  25.000000  10.000000   4.000000   \n",
       "max    67.000000   1.000000   1.970000  90.000000  40.000000  10.000000   \n",
       "\n",
       "        Exercise   Tiresome        PID  \n",
       "count  73.000000  73.000000  73.000000  \n",
       "mean    3.821918   2.630137  37.246575  \n",
       "std     3.578844   1.034231  21.543097  \n",
       "min     0.000000   1.000000   1.000000  \n",
       "25%     2.000000   2.000000  19.000000  \n",
       "50%     3.000000   3.000000  37.000000  \n",
       "75%     5.000000   3.000000  55.000000  \n",
       "max    19.000000   5.000000  74.000000  "
      ]
     },
     "execution_count": 11,
     "metadata": {},
     "output_type": "execute_result"
    }
   ],
   "source": [
    "demos_clean.describe()"
   ]
  },
  {
   "cell_type": "markdown",
   "metadata": {},
   "source": [
    "### Looking through each boxplot and summary data we can see the following:\n",
    "- Age - Range from 16 to 67 with the majority in their early to mid twenties\n",
    "- Sex - Men (0) are slightly more prevelent at just over 54%\n",
    "- Height - ranges from 1.55m (5'1\") to 1.97m (6'6\") with a slight outlier at the bottom at 1.46m (4'10\"), interquartile range runs from 1.67m (5'6\") to 1.80m (5'11\")\n",
    "- Listen - Most participant fall within a grouping from 10 to 30 hours, while one upper outlier stated 80+ hours\n",
    "- Produce - Most participants fall within a grouping from 0 to 10 hours, while two upper outliers exist at 30 and 40 hours\n",
    "- Exercise - While this is affected by how much overall exercise a person performs it does follow the pattern of the last two categories where a strong grouping exists at 2 to 5 hours and a few outliers exist on the upper bound\n",
    "- Tiresome - This was rated on a 1 to 5 (1:Tiring, 5:Not Tiring) and the distributiuon shows people tend towards small effect with a lean towards not tiring"
   ]
  },
  {
   "cell_type": "code",
   "execution_count": 13,
   "metadata": {},
   "outputs": [
    {
     "data": {
      "text/plain": [
       "38    1.46\n",
       "37    1.55\n",
       "27    1.57\n",
       "22    1.57\n",
       "52    1.59\n",
       "      ... \n",
       "42    1.88\n",
       "21    1.89\n",
       "6     1.91\n",
       "18    1.93\n",
       "54    1.97\n",
       "Name: Height, Length: 73, dtype: float64"
      ]
     },
     "execution_count": 13,
     "metadata": {},
     "output_type": "execute_result"
    }
   ],
   "source": [
    "#Taking a look at the difference between the smallest height and the 2nd smallest\n",
    "demos_clean['Height'].sort_values()"
   ]
  },
  {
   "cell_type": "code",
   "execution_count": 28,
   "metadata": {},
   "outputs": [
    {
     "data": {
      "image/png": "[encoded data removed]",
      "text/plain": [
       "<Figure size 432x288 with 1 Axes>"
      ]
     },
     "metadata": {
      "needs_background": "light"
     },
     "output_type": "display_data"
    }
   ],
   "source": [
    "#The females appear slightly older than the male particpants\n",
    "sns.histplot(data=demos_clean, x='Age', hue='Sex', common_bins=False, palette='Set2')\n",
    "plt.legend({'Male':0, 'Female':1})\n",
    "plt.show()"
   ]
  },
  {
   "cell_type": "code",
   "execution_count": 34,
   "metadata": {},
   "outputs": [
    {
     "data": {
      "image/png": "[encoded data removed]",
      "text/plain": [
       "<Figure size 432x288 with 1 Axes>"
      ]
     },
     "metadata": {
      "needs_background": "light"
     },
     "output_type": "display_data"
    }
   ],
   "source": [
    "#The males appear slightly taller than the females overall which is typically expected\n",
    "sns.histplot(data=demos_clean, x='Height', hue='Sex', common_bins=False, palette='Set2')\n",
    "plt.legend({'Male':0, 'Female':1})\n",
    "plt.show()"
   ]
  },
  {
   "cell_type": "code",
   "execution_count": 33,
   "metadata": {},
   "outputs": [
    {
     "data": {
      "image/png": "[encoded data removed]",
      "text/plain": [
       "<Figure size 432x288 with 1 Axes>"
      ]
     },
     "metadata": {
      "needs_background": "light"
     },
     "output_type": "display_data"
    }
   ],
   "source": [
    "sns.scatterplot(data=demos_clean, x='Age', y='Listen', hue='Sex', palette='Set2')\n",
    "plt.legend({'Male':0, 'Female':1})\n",
    "plt.show()"
   ]
  },
  {
   "cell_type": "markdown",
   "metadata": {},
   "source": [
    "It appears that there is a correlation between age and how much music is listened too. It does not appear that the is significant coorelation between sex and amount of music listened to."
   ]
  },
  {
   "cell_type": "markdown",
   "metadata": {},
   "source": [
    "It's worthwhile to take a look at a visualization of the correlation across these factors throuhg seaborn's heatmap function."
   ]
  },
  {
   "cell_type": "code",
   "execution_count": 35,
   "metadata": {},
   "outputs": [],
   "source": [
    "demo_corr = demos_clean.corr()"
   ]
  },
  {
   "cell_type": "code",
   "execution_count": 43,
   "metadata": {},
   "outputs": [
    {
     "data": {
      "image/png": "[encoded data removed]",
      "text/plain": [
       "<Figure size 1152x864 with 2 Axes>"
      ]
     },
     "metadata": {
      "needs_background": "light"
     },
     "output_type": "display_data"
    }
   ],
   "source": [
    "plt.figure(figsize=(16, 12))\n",
    "sns.heatmap(demo_corr, cmap='crest', annot=True)\n",
    "plt.show()"
   ]
  },
  {
   "cell_type": "markdown",
   "metadata": {},
   "source": [
    "None of the variables appear top have strong correlations to each other."
   ]
  },
  {
   "cell_type": "code",
   "execution_count": 44,
   "metadata": {},
   "outputs": [
    {
     "name": "stderr",
     "output_type": "stream",
     "text": [
      "C:\\ProgramData\\Anaconda3\\lib\\site-packages\\pyarrow\\feather.py:83: FutureWarning: The SparseDataFrame class is removed from pandas. Accessing it from the top-level namespace will also be removed in the next version\n",
      "  if isinstance(df, _pandas_api.pd.SparseDataFrame):\n"
     ]
    }
   ],
   "source": [
    "#Exporting the Demographic information with the ex-post variables removed\n",
    "feather.write_feather(demos_clean, 'demos_EDA')"
   ]
  }
 ],
 "metadata": {
  "kernelspec": {
   "display_name": "Python 3",
   "language": "python",
   "name": "python3"
  },
  "language_info": {
   "codemirror_mode": {
    "name": "ipython",
    "version": 3
   },
   "file_extension": ".py",
   "mimetype": "text/x-python",
   "name": "python",
   "nbconvert_exporter": "python",
   "pygments_lexer": "ipython3",
   "version": "3.7.10"
  }
 },
 "nbformat": 4,
 "nbformat_minor": 4
}
