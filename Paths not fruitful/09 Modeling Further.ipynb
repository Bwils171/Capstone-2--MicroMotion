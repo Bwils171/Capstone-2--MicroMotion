{
 "cells": [
  {
   "cell_type": "code",
   "execution_count": 240,
   "metadata": {},
   "outputs": [],
   "source": [
    "%matplotlib inline\n",
    "import pandas as pd\n",
    "import librosa as lib\n",
    "import librosa.display\n",
    "import numpy as np\n",
    "import matplotlib.pyplot as plt\n",
    "import seaborn as sns\n",
    "from IPython.display import Audio\n",
    "import scipy"
   ]
  },
  {
   "cell_type": "code",
   "execution_count": 241,
   "metadata": {},
   "outputs": [],
   "source": [
    "from sklearn.linear_model import LinearRegression\n",
    "from sklearn.dummy import DummyRegressor\n",
    "from sklearn.tree import DecisionTreeRegressor\n",
    "from sklearn.ensemble import RandomForestRegressor\n",
    "from sklearn.svm import SVR\n",
    "from sklearn.model_selection import TimeSeriesSplit\n",
    "from sklearn.decomposition import PCA\n",
    "from sklearn.metrics import mean_absolute_error\n",
    "from sklearn.metrics import mean_squared_error\n",
    "from sklearn.metrics import mean_absolute_percentage_error\n",
    "from sklearn.metrics import r2_score"
   ]
  },
  {
   "cell_type": "code",
   "execution_count": 242,
   "metadata": {},
   "outputs": [],
   "source": [
    "data_time = pd.read_pickle('DFs/data_time.pkl')"
   ]
  },
  {
   "cell_type": "code",
   "execution_count": 243,
   "metadata": {},
   "outputs": [],
   "source": [
    "data_time['movement']=np.sqrt(data_time['X'].diff()**2 +data_time['Y'].diff()**2+data_time['Z'].diff()**2)"
   ]
  },
  {
   "cell_type": "code",
   "execution_count": 244,
   "metadata": {},
   "outputs": [
    {
     "data": {
      "text/plain": [
       "count    130012.000000\n",
       "mean          0.157725\n",
       "std           0.134517\n",
       "min           0.002378\n",
       "25%           0.084920\n",
       "50%           0.134091\n",
       "75%           0.202146\n",
       "max           7.662586\n",
       "Name: movement, dtype: float64"
      ]
     },
     "execution_count": 244,
     "metadata": {},
     "output_type": "execute_result"
    }
   ],
   "source": [
    "data_time['movement'].describe()"
   ]
  },
  {
   "cell_type": "code",
   "execution_count": 245,
   "metadata": {},
   "outputs": [
    {
     "data": {
      "text/plain": [
       "X              0\n",
       "Y              0\n",
       "Z              0\n",
       "PID            0\n",
       "SID            0\n",
       "Age            0\n",
       "Sex         1781\n",
       "Height         0\n",
       "Listen         0\n",
       "Produce        0\n",
       "Dance          0\n",
       "Exercise       0\n",
       "Tiresome       0\n",
       "movement       1\n",
       "dtype: int64"
      ]
     },
     "execution_count": 245,
     "metadata": {},
     "output_type": "execute_result"
    }
   ],
   "source": [
    "data_time.isnull().sum()"
   ]
  },
  {
   "cell_type": "code",
   "execution_count": 246,
   "metadata": {},
   "outputs": [
    {
     "data": {
      "text/html": [
       "<div>\n",
       "<style scoped>\n",
       "    .dataframe tbody tr th:only-of-type {\n",
       "        vertical-align: middle;\n",
       "    }\n",
       "\n",
       "    .dataframe tbody tr th {\n",
       "        vertical-align: top;\n",
       "    }\n",
       "\n",
       "    .dataframe thead th {\n",
       "        text-align: right;\n",
       "    }\n",
       "</style>\n",
       "<table border=\"1\" class=\"dataframe\">\n",
       "  <thead>\n",
       "    <tr style=\"text-align: right;\">\n",
       "      <th></th>\n",
       "      <th>X</th>\n",
       "      <th>Y</th>\n",
       "      <th>Z</th>\n",
       "      <th>PID</th>\n",
       "      <th>SID</th>\n",
       "      <th>Age</th>\n",
       "      <th>Sex</th>\n",
       "      <th>Height</th>\n",
       "      <th>Listen</th>\n",
       "      <th>Produce</th>\n",
       "      <th>Dance</th>\n",
       "      <th>Exercise</th>\n",
       "      <th>Tiresome</th>\n",
       "      <th>movement</th>\n",
       "    </tr>\n",
       "    <tr>\n",
       "      <th>index</th>\n",
       "      <th></th>\n",
       "      <th></th>\n",
       "      <th></th>\n",
       "      <th></th>\n",
       "      <th></th>\n",
       "      <th></th>\n",
       "      <th></th>\n",
       "      <th></th>\n",
       "      <th></th>\n",
       "      <th></th>\n",
       "      <th></th>\n",
       "      <th></th>\n",
       "      <th></th>\n",
       "      <th></th>\n",
       "    </tr>\n",
       "  </thead>\n",
       "  <tbody>\n",
       "    <tr>\n",
       "      <th>1900-01-01 00:00:00.000</th>\n",
       "      <td>0.605181</td>\n",
       "      <td>-2.630700</td>\n",
       "      <td>2.131122</td>\n",
       "      <td>11</td>\n",
       "      <td>B3</td>\n",
       "      <td>19</td>\n",
       "      <td>NaN</td>\n",
       "      <td>1.75</td>\n",
       "      <td>10</td>\n",
       "      <td>5.0</td>\n",
       "      <td>0.0</td>\n",
       "      <td>1.0</td>\n",
       "      <td>3</td>\n",
       "      <td>6.089350</td>\n",
       "    </tr>\n",
       "    <tr>\n",
       "      <th>1900-01-01 00:00:00.200</th>\n",
       "      <td>0.604267</td>\n",
       "      <td>-2.600309</td>\n",
       "      <td>2.119793</td>\n",
       "      <td>11</td>\n",
       "      <td>B3</td>\n",
       "      <td>19</td>\n",
       "      <td>NaN</td>\n",
       "      <td>1.75</td>\n",
       "      <td>10</td>\n",
       "      <td>5.0</td>\n",
       "      <td>0.0</td>\n",
       "      <td>1.0</td>\n",
       "      <td>3</td>\n",
       "      <td>0.032446</td>\n",
       "    </tr>\n",
       "    <tr>\n",
       "      <th>1900-01-01 00:00:00.400</th>\n",
       "      <td>0.615666</td>\n",
       "      <td>-2.631756</td>\n",
       "      <td>2.121505</td>\n",
       "      <td>11</td>\n",
       "      <td>B3</td>\n",
       "      <td>19</td>\n",
       "      <td>NaN</td>\n",
       "      <td>1.75</td>\n",
       "      <td>10</td>\n",
       "      <td>5.0</td>\n",
       "      <td>0.0</td>\n",
       "      <td>1.0</td>\n",
       "      <td>3</td>\n",
       "      <td>0.033493</td>\n",
       "    </tr>\n",
       "    <tr>\n",
       "      <th>1900-01-01 00:00:00.600</th>\n",
       "      <td>0.594058</td>\n",
       "      <td>-2.655019</td>\n",
       "      <td>2.114312</td>\n",
       "      <td>11</td>\n",
       "      <td>B3</td>\n",
       "      <td>19</td>\n",
       "      <td>NaN</td>\n",
       "      <td>1.75</td>\n",
       "      <td>10</td>\n",
       "      <td>5.0</td>\n",
       "      <td>0.0</td>\n",
       "      <td>1.0</td>\n",
       "      <td>3</td>\n",
       "      <td>0.032555</td>\n",
       "    </tr>\n",
       "    <tr>\n",
       "      <th>1900-01-01 00:00:00.800</th>\n",
       "      <td>0.463721</td>\n",
       "      <td>-2.648030</td>\n",
       "      <td>2.113028</td>\n",
       "      <td>11</td>\n",
       "      <td>B3</td>\n",
       "      <td>19</td>\n",
       "      <td>NaN</td>\n",
       "      <td>1.75</td>\n",
       "      <td>10</td>\n",
       "      <td>5.0</td>\n",
       "      <td>0.0</td>\n",
       "      <td>1.0</td>\n",
       "      <td>3</td>\n",
       "      <td>0.130531</td>\n",
       "    </tr>\n",
       "    <tr>\n",
       "      <th>...</th>\n",
       "      <td>...</td>\n",
       "      <td>...</td>\n",
       "      <td>...</td>\n",
       "      <td>...</td>\n",
       "      <td>...</td>\n",
       "      <td>...</td>\n",
       "      <td>...</td>\n",
       "      <td>...</td>\n",
       "      <td>...</td>\n",
       "      <td>...</td>\n",
       "      <td>...</td>\n",
       "      <td>...</td>\n",
       "      <td>...</td>\n",
       "      <td>...</td>\n",
       "    </tr>\n",
       "    <tr>\n",
       "      <th>1900-01-01 00:05:55.200</th>\n",
       "      <td>-0.708439</td>\n",
       "      <td>-0.216223</td>\n",
       "      <td>-0.823651</td>\n",
       "      <td>11</td>\n",
       "      <td>B3</td>\n",
       "      <td>19</td>\n",
       "      <td>NaN</td>\n",
       "      <td>1.75</td>\n",
       "      <td>10</td>\n",
       "      <td>5.0</td>\n",
       "      <td>0.0</td>\n",
       "      <td>1.0</td>\n",
       "      <td>3</td>\n",
       "      <td>0.119044</td>\n",
       "    </tr>\n",
       "    <tr>\n",
       "      <th>1900-01-01 00:05:55.400</th>\n",
       "      <td>-0.741087</td>\n",
       "      <td>-0.112573</td>\n",
       "      <td>-0.869293</td>\n",
       "      <td>11</td>\n",
       "      <td>B3</td>\n",
       "      <td>19</td>\n",
       "      <td>NaN</td>\n",
       "      <td>1.75</td>\n",
       "      <td>10</td>\n",
       "      <td>5.0</td>\n",
       "      <td>0.0</td>\n",
       "      <td>1.0</td>\n",
       "      <td>3</td>\n",
       "      <td>0.117866</td>\n",
       "    </tr>\n",
       "    <tr>\n",
       "      <th>1900-01-01 00:05:55.600</th>\n",
       "      <td>-0.740995</td>\n",
       "      <td>-0.025418</td>\n",
       "      <td>-0.915403</td>\n",
       "      <td>11</td>\n",
       "      <td>B3</td>\n",
       "      <td>19</td>\n",
       "      <td>NaN</td>\n",
       "      <td>1.75</td>\n",
       "      <td>10</td>\n",
       "      <td>5.0</td>\n",
       "      <td>0.0</td>\n",
       "      <td>1.0</td>\n",
       "      <td>3</td>\n",
       "      <td>0.098602</td>\n",
       "    </tr>\n",
       "    <tr>\n",
       "      <th>1900-01-01 00:05:55.800</th>\n",
       "      <td>-0.639260</td>\n",
       "      <td>0.036657</td>\n",
       "      <td>-0.955136</td>\n",
       "      <td>11</td>\n",
       "      <td>B3</td>\n",
       "      <td>19</td>\n",
       "      <td>NaN</td>\n",
       "      <td>1.75</td>\n",
       "      <td>10</td>\n",
       "      <td>5.0</td>\n",
       "      <td>0.0</td>\n",
       "      <td>1.0</td>\n",
       "      <td>3</td>\n",
       "      <td>0.125626</td>\n",
       "    </tr>\n",
       "    <tr>\n",
       "      <th>1900-01-01 00:05:56.000</th>\n",
       "      <td>-0.568366</td>\n",
       "      <td>0.034940</td>\n",
       "      <td>-0.953099</td>\n",
       "      <td>11</td>\n",
       "      <td>B3</td>\n",
       "      <td>19</td>\n",
       "      <td>NaN</td>\n",
       "      <td>1.75</td>\n",
       "      <td>10</td>\n",
       "      <td>5.0</td>\n",
       "      <td>0.0</td>\n",
       "      <td>1.0</td>\n",
       "      <td>3</td>\n",
       "      <td>0.070944</td>\n",
       "    </tr>\n",
       "  </tbody>\n",
       "</table>\n",
       "<p>1781 rows × 14 columns</p>\n",
       "</div>"
      ],
      "text/plain": [
       "                                X         Y         Z  PID SID  Age  Sex  \\\n",
       "index                                                                      \n",
       "1900-01-01 00:00:00.000  0.605181 -2.630700  2.131122   11  B3   19  NaN   \n",
       "1900-01-01 00:00:00.200  0.604267 -2.600309  2.119793   11  B3   19  NaN   \n",
       "1900-01-01 00:00:00.400  0.615666 -2.631756  2.121505   11  B3   19  NaN   \n",
       "1900-01-01 00:00:00.600  0.594058 -2.655019  2.114312   11  B3   19  NaN   \n",
       "1900-01-01 00:00:00.800  0.463721 -2.648030  2.113028   11  B3   19  NaN   \n",
       "...                           ...       ...       ...  ...  ..  ...  ...   \n",
       "1900-01-01 00:05:55.200 -0.708439 -0.216223 -0.823651   11  B3   19  NaN   \n",
       "1900-01-01 00:05:55.400 -0.741087 -0.112573 -0.869293   11  B3   19  NaN   \n",
       "1900-01-01 00:05:55.600 -0.740995 -0.025418 -0.915403   11  B3   19  NaN   \n",
       "1900-01-01 00:05:55.800 -0.639260  0.036657 -0.955136   11  B3   19  NaN   \n",
       "1900-01-01 00:05:56.000 -0.568366  0.034940 -0.953099   11  B3   19  NaN   \n",
       "\n",
       "                         Height  Listen  Produce  Dance  Exercise  Tiresome  \\\n",
       "index                                                                         \n",
       "1900-01-01 00:00:00.000    1.75      10      5.0    0.0       1.0         3   \n",
       "1900-01-01 00:00:00.200    1.75      10      5.0    0.0       1.0         3   \n",
       "1900-01-01 00:00:00.400    1.75      10      5.0    0.0       1.0         3   \n",
       "1900-01-01 00:00:00.600    1.75      10      5.0    0.0       1.0         3   \n",
       "1900-01-01 00:00:00.800    1.75      10      5.0    0.0       1.0         3   \n",
       "...                         ...     ...      ...    ...       ...       ...   \n",
       "1900-01-01 00:05:55.200    1.75      10      5.0    0.0       1.0         3   \n",
       "1900-01-01 00:05:55.400    1.75      10      5.0    0.0       1.0         3   \n",
       "1900-01-01 00:05:55.600    1.75      10      5.0    0.0       1.0         3   \n",
       "1900-01-01 00:05:55.800    1.75      10      5.0    0.0       1.0         3   \n",
       "1900-01-01 00:05:56.000    1.75      10      5.0    0.0       1.0         3   \n",
       "\n",
       "                         movement  \n",
       "index                              \n",
       "1900-01-01 00:00:00.000  6.089350  \n",
       "1900-01-01 00:00:00.200  0.032446  \n",
       "1900-01-01 00:00:00.400  0.033493  \n",
       "1900-01-01 00:00:00.600  0.032555  \n",
       "1900-01-01 00:00:00.800  0.130531  \n",
       "...                           ...  \n",
       "1900-01-01 00:05:55.200  0.119044  \n",
       "1900-01-01 00:05:55.400  0.117866  \n",
       "1900-01-01 00:05:55.600  0.098602  \n",
       "1900-01-01 00:05:55.800  0.125626  \n",
       "1900-01-01 00:05:56.000  0.070944  \n",
       "\n",
       "[1781 rows x 14 columns]"
      ]
     },
     "execution_count": 246,
     "metadata": {},
     "output_type": "execute_result"
    }
   ],
   "source": [
    "data_time[data_time['Sex'].isnull()]"
   ]
  },
  {
   "cell_type": "code",
   "execution_count": 247,
   "metadata": {},
   "outputs": [],
   "source": [
    "data_time = data_time[~data_time['Sex'].isnull()]"
   ]
  },
  {
   "cell_type": "code",
   "execution_count": 248,
   "metadata": {},
   "outputs": [
    {
     "data": {
      "text/html": [
       "<div>\n",
       "<style scoped>\n",
       "    .dataframe tbody tr th:only-of-type {\n",
       "        vertical-align: middle;\n",
       "    }\n",
       "\n",
       "    .dataframe tbody tr th {\n",
       "        vertical-align: top;\n",
       "    }\n",
       "\n",
       "    .dataframe thead th {\n",
       "        text-align: right;\n",
       "    }\n",
       "</style>\n",
       "<table border=\"1\" class=\"dataframe\">\n",
       "  <thead>\n",
       "    <tr style=\"text-align: right;\">\n",
       "      <th></th>\n",
       "      <th>X</th>\n",
       "      <th>Y</th>\n",
       "      <th>Z</th>\n",
       "      <th>PID</th>\n",
       "      <th>SID</th>\n",
       "      <th>Age</th>\n",
       "      <th>Sex</th>\n",
       "      <th>Height</th>\n",
       "      <th>Listen</th>\n",
       "      <th>Produce</th>\n",
       "      <th>Dance</th>\n",
       "      <th>Exercise</th>\n",
       "      <th>Tiresome</th>\n",
       "      <th>movement</th>\n",
       "    </tr>\n",
       "    <tr>\n",
       "      <th>index</th>\n",
       "      <th></th>\n",
       "      <th></th>\n",
       "      <th></th>\n",
       "      <th></th>\n",
       "      <th></th>\n",
       "      <th></th>\n",
       "      <th></th>\n",
       "      <th></th>\n",
       "      <th></th>\n",
       "      <th></th>\n",
       "      <th></th>\n",
       "      <th></th>\n",
       "      <th></th>\n",
       "      <th></th>\n",
       "    </tr>\n",
       "  </thead>\n",
       "  <tbody>\n",
       "  </tbody>\n",
       "</table>\n",
       "</div>"
      ],
      "text/plain": [
       "Empty DataFrame\n",
       "Columns: [X, Y, Z, PID, SID, Age, Sex, Height, Listen, Produce, Dance, Exercise, Tiresome, movement]\n",
       "Index: []"
      ]
     },
     "execution_count": 248,
     "metadata": {},
     "output_type": "execute_result"
    }
   ],
   "source": [
    "data_time[data_time['X'].isnull()]"
   ]
  },
  {
   "cell_type": "code",
   "execution_count": 249,
   "metadata": {},
   "outputs": [
    {
     "data": {
      "text/plain": [
       "X           0\n",
       "Y           0\n",
       "Z           0\n",
       "PID         0\n",
       "SID         0\n",
       "Age         0\n",
       "Sex         0\n",
       "Height      0\n",
       "Listen      0\n",
       "Produce     0\n",
       "Dance       0\n",
       "Exercise    0\n",
       "Tiresome    0\n",
       "movement    1\n",
       "dtype: int64"
      ]
     },
     "execution_count": 249,
     "metadata": {},
     "output_type": "execute_result"
    }
   ],
   "source": [
    "data_time.isnull().sum()"
   ]
  },
  {
   "cell_type": "code",
   "execution_count": 250,
   "metadata": {},
   "outputs": [
    {
     "data": {
      "text/html": [
       "<div>\n",
       "<style scoped>\n",
       "    .dataframe tbody tr th:only-of-type {\n",
       "        vertical-align: middle;\n",
       "    }\n",
       "\n",
       "    .dataframe tbody tr th {\n",
       "        vertical-align: top;\n",
       "    }\n",
       "\n",
       "    .dataframe thead th {\n",
       "        text-align: right;\n",
       "    }\n",
       "</style>\n",
       "<table border=\"1\" class=\"dataframe\">\n",
       "  <thead>\n",
       "    <tr style=\"text-align: right;\">\n",
       "      <th></th>\n",
       "      <th>X</th>\n",
       "      <th>Y</th>\n",
       "      <th>Z</th>\n",
       "      <th>PID</th>\n",
       "      <th>SID</th>\n",
       "      <th>Age</th>\n",
       "      <th>Sex</th>\n",
       "      <th>Height</th>\n",
       "      <th>Listen</th>\n",
       "      <th>Produce</th>\n",
       "      <th>Dance</th>\n",
       "      <th>Exercise</th>\n",
       "      <th>Tiresome</th>\n",
       "      <th>movement</th>\n",
       "    </tr>\n",
       "    <tr>\n",
       "      <th>index</th>\n",
       "      <th></th>\n",
       "      <th></th>\n",
       "      <th></th>\n",
       "      <th></th>\n",
       "      <th></th>\n",
       "      <th></th>\n",
       "      <th></th>\n",
       "      <th></th>\n",
       "      <th></th>\n",
       "      <th></th>\n",
       "      <th></th>\n",
       "      <th></th>\n",
       "      <th></th>\n",
       "      <th></th>\n",
       "    </tr>\n",
       "  </thead>\n",
       "  <tbody>\n",
       "    <tr>\n",
       "      <th>1900-01-01</th>\n",
       "      <td>-0.17935</td>\n",
       "      <td>-1.408557</td>\n",
       "      <td>1.241226</td>\n",
       "      <td>1</td>\n",
       "      <td>A1</td>\n",
       "      <td>23</td>\n",
       "      <td>0.0</td>\n",
       "      <td>1.72</td>\n",
       "      <td>5</td>\n",
       "      <td>30.0</td>\n",
       "      <td>1.0</td>\n",
       "      <td>7.0</td>\n",
       "      <td>3</td>\n",
       "      <td>NaN</td>\n",
       "    </tr>\n",
       "  </tbody>\n",
       "</table>\n",
       "</div>"
      ],
      "text/plain": [
       "                  X         Y         Z  PID SID  Age  Sex  Height  Listen  \\\n",
       "index                                                                        \n",
       "1900-01-01 -0.17935 -1.408557  1.241226    1  A1   23  0.0    1.72       5   \n",
       "\n",
       "            Produce  Dance  Exercise  Tiresome  movement  \n",
       "index                                                     \n",
       "1900-01-01     30.0    1.0       7.0         3       NaN  "
      ]
     },
     "execution_count": 250,
     "metadata": {},
     "output_type": "execute_result"
    }
   ],
   "source": [
    "data_time[data_time['movement'].isnull()]"
   ]
  },
  {
   "cell_type": "code",
   "execution_count": 251,
   "metadata": {},
   "outputs": [],
   "source": [
    "mnull = data_time['movement'].isnull()\n",
    "data_time = data_time[~mnull]"
   ]
  },
  {
   "cell_type": "code",
   "execution_count": 252,
   "metadata": {},
   "outputs": [
    {
     "data": {
      "text/plain": [
       "X           0\n",
       "Y           0\n",
       "Z           0\n",
       "PID         0\n",
       "SID         0\n",
       "Age         0\n",
       "Sex         0\n",
       "Height      0\n",
       "Listen      0\n",
       "Produce     0\n",
       "Dance       0\n",
       "Exercise    0\n",
       "Tiresome    0\n",
       "movement    0\n",
       "dtype: int64"
      ]
     },
     "execution_count": 252,
     "metadata": {},
     "output_type": "execute_result"
    }
   ],
   "source": [
    "data_time.isnull().sum()"
   ]
  },
  {
   "cell_type": "code",
   "execution_count": 276,
   "metadata": {},
   "outputs": [],
   "source": [
    "data_time['mov_avg']=data_time['movement'].rolling(20).mean()"
   ]
  },
  {
   "cell_type": "code",
   "execution_count": 277,
   "metadata": {},
   "outputs": [
    {
     "data": {
      "text/plain": [
       "index\n",
       "1900-01-01 00:00:00.200         NaN\n",
       "1900-01-01 00:00:00.400         NaN\n",
       "1900-01-01 00:00:00.600         NaN\n",
       "1900-01-01 00:00:00.800         NaN\n",
       "1900-01-01 00:00:01.000         NaN\n",
       "                             ...   \n",
       "1900-01-01 00:05:55.200    0.116321\n",
       "1900-01-01 00:05:55.400    0.114239\n",
       "1900-01-01 00:05:55.600    0.115836\n",
       "1900-01-01 00:05:55.800    0.117621\n",
       "1900-01-01 00:05:56.000    0.113323\n",
       "Name: mov_avg, Length: 128231, dtype: float64"
      ]
     },
     "execution_count": 277,
     "metadata": {},
     "output_type": "execute_result"
    }
   ],
   "source": [
    "data_time['mov_avg']"
   ]
  },
  {
   "cell_type": "code",
   "execution_count": 253,
   "metadata": {},
   "outputs": [],
   "source": [
    "tscv = TimeSeriesSplit()"
   ]
  },
  {
   "cell_type": "code",
   "execution_count": 282,
   "metadata": {},
   "outputs": [],
   "source": [
    "X = data_time.drop(columns=['PID', 'SID', 'movement', 'mov_avg']).dropna().to_numpy()\n",
    "y = data_time[['mov_avg']].dropna().to_numpy()"
   ]
  },
  {
   "cell_type": "code",
   "execution_count": 283,
   "metadata": {},
   "outputs": [],
   "source": [
    "predictions = pd.DataFrame()\n",
    "scores = pd.DataFrame()"
   ]
  },
  {
   "cell_type": "code",
   "execution_count": 284,
   "metadata": {},
   "outputs": [],
   "source": [
    "def train_test(model, algo):\n",
    "    count=1\n",
    "    scoretemp = {algo+'_R2': [],algo+'_MAE':[], algo+'_MSE':[], algo+'_MPE':[]}\n",
    "    predictiontemp = pd.DataFrame(index=range(21371))\n",
    "    for train_index, test_index in tscv.split(X):\n",
    "        X_train, X_test = X[train_index], X[test_index]\n",
    "        y_train, y_test = y[train_index], y[test_index]\n",
    "        print(train_index, test_index)\n",
    "        model.fit(X_train, y_train)\n",
    "        y_pred = model.predict(X_test)\n",
    "        predictiontemp[algo + '_y_pred' + str(count)] = y_pred\n",
    "        scoretemp[algo + '_R2'].append(r2_score(y_test, y_pred))\n",
    "        scoretemp[algo + '_MAE'].append(mean_absolute_error(y_test, y_pred))\n",
    "        scoretemp[algo + '_MSE'].append(mean_squared_error(y_test, y_pred))\n",
    "        scoretemp[algo + '_MPE'].append(mean_absolute_percentage_error(y_test, y_pred))\n",
    "        count+=1\n",
    "    scoretemp = pd.DataFrame(scoretemp)\n",
    "    return scoretemp, predictiontemp\n",
    "\n",
    "\n",
    "\n",
    "#def train_test(model, algo):\n",
    "#    count=1\n",
    "#    X_train = {}\n",
    "#    X_test = {}\n",
    "#    y_train = {}\n",
    "#    y_test = {}\n",
    "#    y_pred = {}\n",
    "#    for train_index, test_index in tscv.split(X):\n",
    "#        X_train[count], X_test[count] = X[train_index], X[test_index]\n",
    "#        y_train[count], y_test[count] = y[train_index], y[test_index]\n",
    "#        model.fit(X_train[count], y_train[count])\n",
    "#        y_pred[algo+'y_pred'+str(count)] = model.predict(X_test[count])\n",
    "#        count+=1\n",
    "    #scoretemp[algo + '_R2'].append(r2_score(y_test, y_pred))\n",
    "    #scoretemp[algo + '_MAE'].append(mean_absolute_error(y_test, y_pred))\n",
    "    #scoretemp[algo + '_MSE'].append(mean_squared_error(y_test, y_pred))\n",
    "    #scoretemp[algo + '_MAPE'].append(mean_absolute_error(y_test, y_pred))\n",
    "#    return y_pred, X_train, X_test, y_train, y_test, y_pred"
   ]
  },
  {
   "cell_type": "code",
   "execution_count": 285,
   "metadata": {},
   "outputs": [
    {
     "name": "stdout",
     "output_type": "stream",
     "text": [
      "[    0     1     2 ... 21373 21374 21375] [21376 21377 21378 ... 42744 42745 42746]\n",
      "[    0     1     2 ... 42744 42745 42746] [42747 42748 42749 ... 64115 64116 64117]\n",
      "[    0     1     2 ... 64115 64116 64117] [64118 64119 64120 ... 85486 85487 85488]\n",
      "[    0     1     2 ... 85486 85487 85488] [ 85489  85490  85491 ... 106857 106858 106859]\n"
     ]
    },
    {
     "ename": "IndexError",
     "evalue": "index 128212 is out of bounds for axis 0 with size 128212",
     "output_type": "error",
     "traceback": [
      "\u001b[1;31m---------------------------------------------------------------------------\u001b[0m",
      "\u001b[1;31mIndexError\u001b[0m                                Traceback (most recent call last)",
      "\u001b[1;32m<ipython-input-285-1004c7b6c292>\u001b[0m in \u001b[0;36m<module>\u001b[1;34m\u001b[0m\n\u001b[0;32m      1\u001b[0m \u001b[0mdummy\u001b[0m \u001b[1;33m=\u001b[0m \u001b[0mDummyRegressor\u001b[0m\u001b[1;33m(\u001b[0m\u001b[0mstrategy\u001b[0m\u001b[1;33m=\u001b[0m\u001b[1;34m'mean'\u001b[0m\u001b[1;33m)\u001b[0m\u001b[1;33m\u001b[0m\u001b[1;33m\u001b[0m\u001b[0m\n\u001b[1;32m----> 2\u001b[1;33m \u001b[0mscoretemp\u001b[0m\u001b[1;33m,\u001b[0m \u001b[0mpredictiontemp\u001b[0m \u001b[1;33m=\u001b[0m \u001b[0mtrain_test\u001b[0m\u001b[1;33m(\u001b[0m\u001b[0mdummy\u001b[0m\u001b[1;33m,\u001b[0m \u001b[1;34m'D'\u001b[0m\u001b[1;33m)\u001b[0m\u001b[1;33m\u001b[0m\u001b[1;33m\u001b[0m\u001b[0m\n\u001b[0m\u001b[0;32m      3\u001b[0m \u001b[0mscores\u001b[0m \u001b[1;33m=\u001b[0m \u001b[0mpd\u001b[0m\u001b[1;33m.\u001b[0m\u001b[0mconcat\u001b[0m\u001b[1;33m(\u001b[0m\u001b[1;33m[\u001b[0m\u001b[0mscores\u001b[0m\u001b[1;33m,\u001b[0m \u001b[0mscoretemp\u001b[0m\u001b[1;33m]\u001b[0m\u001b[1;33m,\u001b[0m \u001b[0maxis\u001b[0m\u001b[1;33m=\u001b[0m\u001b[1;36m1\u001b[0m\u001b[1;33m)\u001b[0m\u001b[1;33m\u001b[0m\u001b[1;33m\u001b[0m\u001b[0m\n\u001b[0;32m      4\u001b[0m \u001b[0mpredictions\u001b[0m \u001b[1;33m=\u001b[0m \u001b[0mpd\u001b[0m\u001b[1;33m.\u001b[0m\u001b[0mconcat\u001b[0m\u001b[1;33m(\u001b[0m\u001b[1;33m[\u001b[0m\u001b[0mpredictions\u001b[0m\u001b[1;33m,\u001b[0m \u001b[0mpredictiontemp\u001b[0m\u001b[1;33m]\u001b[0m\u001b[1;33m,\u001b[0m \u001b[0maxis\u001b[0m\u001b[1;33m=\u001b[0m\u001b[1;36m1\u001b[0m\u001b[1;33m)\u001b[0m\u001b[1;33m\u001b[0m\u001b[1;33m\u001b[0m\u001b[0m\n",
      "\u001b[1;32m<ipython-input-284-2beda6a97a81>\u001b[0m in \u001b[0;36mtrain_test\u001b[1;34m(model, algo)\u001b[0m\n\u001b[0;32m      5\u001b[0m     \u001b[1;32mfor\u001b[0m \u001b[0mtrain_index\u001b[0m\u001b[1;33m,\u001b[0m \u001b[0mtest_index\u001b[0m \u001b[1;32min\u001b[0m \u001b[0mtscv\u001b[0m\u001b[1;33m.\u001b[0m\u001b[0msplit\u001b[0m\u001b[1;33m(\u001b[0m\u001b[0mX\u001b[0m\u001b[1;33m)\u001b[0m\u001b[1;33m:\u001b[0m\u001b[1;33m\u001b[0m\u001b[1;33m\u001b[0m\u001b[0m\n\u001b[0;32m      6\u001b[0m         \u001b[0mX_train\u001b[0m\u001b[1;33m,\u001b[0m \u001b[0mX_test\u001b[0m \u001b[1;33m=\u001b[0m \u001b[0mX\u001b[0m\u001b[1;33m[\u001b[0m\u001b[0mtrain_index\u001b[0m\u001b[1;33m]\u001b[0m\u001b[1;33m,\u001b[0m \u001b[0mX\u001b[0m\u001b[1;33m[\u001b[0m\u001b[0mtest_index\u001b[0m\u001b[1;33m]\u001b[0m\u001b[1;33m\u001b[0m\u001b[1;33m\u001b[0m\u001b[0m\n\u001b[1;32m----> 7\u001b[1;33m         \u001b[0my_train\u001b[0m\u001b[1;33m,\u001b[0m \u001b[0my_test\u001b[0m \u001b[1;33m=\u001b[0m \u001b[0my\u001b[0m\u001b[1;33m[\u001b[0m\u001b[0mtrain_index\u001b[0m\u001b[1;33m]\u001b[0m\u001b[1;33m,\u001b[0m \u001b[0my\u001b[0m\u001b[1;33m[\u001b[0m\u001b[0mtest_index\u001b[0m\u001b[1;33m]\u001b[0m\u001b[1;33m\u001b[0m\u001b[1;33m\u001b[0m\u001b[0m\n\u001b[0m\u001b[0;32m      8\u001b[0m         \u001b[0mprint\u001b[0m\u001b[1;33m(\u001b[0m\u001b[0mtrain_index\u001b[0m\u001b[1;33m,\u001b[0m \u001b[0mtest_index\u001b[0m\u001b[1;33m)\u001b[0m\u001b[1;33m\u001b[0m\u001b[1;33m\u001b[0m\u001b[0m\n\u001b[0;32m      9\u001b[0m         \u001b[0mmodel\u001b[0m\u001b[1;33m.\u001b[0m\u001b[0mfit\u001b[0m\u001b[1;33m(\u001b[0m\u001b[0mX_train\u001b[0m\u001b[1;33m,\u001b[0m \u001b[0my_train\u001b[0m\u001b[1;33m)\u001b[0m\u001b[1;33m\u001b[0m\u001b[1;33m\u001b[0m\u001b[0m\n",
      "\u001b[1;31mIndexError\u001b[0m: index 128212 is out of bounds for axis 0 with size 128212"
     ]
    }
   ],
   "source": [
    "dummy = DummyRegressor(strategy='mean')\n",
    "scoretemp, predictiontemp = train_test(dummy, 'D')\n",
    "scores = pd.concat([scores, scoretemp], axis=1)\n",
    "predictions = pd.concat([predictions, predictiontemp], axis=1)"
   ]
  },
  {
   "cell_type": "code",
   "execution_count": 286,
   "metadata": {
    "scrolled": true
   },
   "outputs": [
    {
     "name": "stdout",
     "output_type": "stream",
     "text": [
      "[    0     1     2 ... 21373 21374 21375] [21376 21377 21378 ... 42744 42745 42746]\n",
      "[    0     1     2 ... 42744 42745 42746] [42747 42748 42749 ... 64115 64116 64117]\n",
      "[    0     1     2 ... 64115 64116 64117] [64118 64119 64120 ... 85486 85487 85488]\n",
      "[    0     1     2 ... 85486 85487 85488] [ 85489  85490  85491 ... 106857 106858 106859]\n"
     ]
    },
    {
     "ename": "IndexError",
     "evalue": "index 128212 is out of bounds for axis 0 with size 128212",
     "output_type": "error",
     "traceback": [
      "\u001b[1;31m---------------------------------------------------------------------------\u001b[0m",
      "\u001b[1;31mIndexError\u001b[0m                                Traceback (most recent call last)",
      "\u001b[1;32m<ipython-input-286-0701a07e170b>\u001b[0m in \u001b[0;36m<module>\u001b[1;34m\u001b[0m\n\u001b[0;32m      1\u001b[0m \u001b[0mlin\u001b[0m \u001b[1;33m=\u001b[0m \u001b[0mLinearRegression\u001b[0m\u001b[1;33m(\u001b[0m\u001b[1;33m)\u001b[0m\u001b[1;33m\u001b[0m\u001b[1;33m\u001b[0m\u001b[0m\n\u001b[1;32m----> 2\u001b[1;33m \u001b[0mscoretemp\u001b[0m\u001b[1;33m,\u001b[0m \u001b[0mpredictiontemp\u001b[0m \u001b[1;33m=\u001b[0m \u001b[0mtrain_test\u001b[0m\u001b[1;33m(\u001b[0m\u001b[0mlin\u001b[0m\u001b[1;33m,\u001b[0m \u001b[1;34m'LR'\u001b[0m\u001b[1;33m)\u001b[0m\u001b[1;33m\u001b[0m\u001b[1;33m\u001b[0m\u001b[0m\n\u001b[0m\u001b[0;32m      3\u001b[0m \u001b[0mscores\u001b[0m \u001b[1;33m=\u001b[0m \u001b[0mpd\u001b[0m\u001b[1;33m.\u001b[0m\u001b[0mconcat\u001b[0m\u001b[1;33m(\u001b[0m\u001b[1;33m[\u001b[0m\u001b[0mscores\u001b[0m\u001b[1;33m,\u001b[0m \u001b[0mscoretemp\u001b[0m\u001b[1;33m]\u001b[0m\u001b[1;33m,\u001b[0m \u001b[0maxis\u001b[0m\u001b[1;33m=\u001b[0m\u001b[1;36m1\u001b[0m\u001b[1;33m)\u001b[0m\u001b[1;33m\u001b[0m\u001b[1;33m\u001b[0m\u001b[0m\n\u001b[0;32m      4\u001b[0m \u001b[0mpredictions\u001b[0m \u001b[1;33m=\u001b[0m \u001b[0mpd\u001b[0m\u001b[1;33m.\u001b[0m\u001b[0mconcat\u001b[0m\u001b[1;33m(\u001b[0m\u001b[1;33m[\u001b[0m\u001b[0mpredictions\u001b[0m\u001b[1;33m,\u001b[0m \u001b[0mpredictiontemp\u001b[0m\u001b[1;33m]\u001b[0m\u001b[1;33m,\u001b[0m \u001b[0maxis\u001b[0m\u001b[1;33m=\u001b[0m\u001b[1;36m1\u001b[0m\u001b[1;33m)\u001b[0m\u001b[1;33m\u001b[0m\u001b[1;33m\u001b[0m\u001b[0m\n",
      "\u001b[1;32m<ipython-input-284-2beda6a97a81>\u001b[0m in \u001b[0;36mtrain_test\u001b[1;34m(model, algo)\u001b[0m\n\u001b[0;32m      5\u001b[0m     \u001b[1;32mfor\u001b[0m \u001b[0mtrain_index\u001b[0m\u001b[1;33m,\u001b[0m \u001b[0mtest_index\u001b[0m \u001b[1;32min\u001b[0m \u001b[0mtscv\u001b[0m\u001b[1;33m.\u001b[0m\u001b[0msplit\u001b[0m\u001b[1;33m(\u001b[0m\u001b[0mX\u001b[0m\u001b[1;33m)\u001b[0m\u001b[1;33m:\u001b[0m\u001b[1;33m\u001b[0m\u001b[1;33m\u001b[0m\u001b[0m\n\u001b[0;32m      6\u001b[0m         \u001b[0mX_train\u001b[0m\u001b[1;33m,\u001b[0m \u001b[0mX_test\u001b[0m \u001b[1;33m=\u001b[0m \u001b[0mX\u001b[0m\u001b[1;33m[\u001b[0m\u001b[0mtrain_index\u001b[0m\u001b[1;33m]\u001b[0m\u001b[1;33m,\u001b[0m \u001b[0mX\u001b[0m\u001b[1;33m[\u001b[0m\u001b[0mtest_index\u001b[0m\u001b[1;33m]\u001b[0m\u001b[1;33m\u001b[0m\u001b[1;33m\u001b[0m\u001b[0m\n\u001b[1;32m----> 7\u001b[1;33m         \u001b[0my_train\u001b[0m\u001b[1;33m,\u001b[0m \u001b[0my_test\u001b[0m \u001b[1;33m=\u001b[0m \u001b[0my\u001b[0m\u001b[1;33m[\u001b[0m\u001b[0mtrain_index\u001b[0m\u001b[1;33m]\u001b[0m\u001b[1;33m,\u001b[0m \u001b[0my\u001b[0m\u001b[1;33m[\u001b[0m\u001b[0mtest_index\u001b[0m\u001b[1;33m]\u001b[0m\u001b[1;33m\u001b[0m\u001b[1;33m\u001b[0m\u001b[0m\n\u001b[0m\u001b[0;32m      8\u001b[0m         \u001b[0mprint\u001b[0m\u001b[1;33m(\u001b[0m\u001b[0mtrain_index\u001b[0m\u001b[1;33m,\u001b[0m \u001b[0mtest_index\u001b[0m\u001b[1;33m)\u001b[0m\u001b[1;33m\u001b[0m\u001b[1;33m\u001b[0m\u001b[0m\n\u001b[0;32m      9\u001b[0m         \u001b[0mmodel\u001b[0m\u001b[1;33m.\u001b[0m\u001b[0mfit\u001b[0m\u001b[1;33m(\u001b[0m\u001b[0mX_train\u001b[0m\u001b[1;33m,\u001b[0m \u001b[0my_train\u001b[0m\u001b[1;33m)\u001b[0m\u001b[1;33m\u001b[0m\u001b[1;33m\u001b[0m\u001b[0m\n",
      "\u001b[1;31mIndexError\u001b[0m: index 128212 is out of bounds for axis 0 with size 128212"
     ]
    }
   ],
   "source": [
    "lin = LinearRegression()\n",
    "scoretemp, predictiontemp = train_test(lin, 'LR')\n",
    "scores = pd.concat([scores, scoretemp], axis=1)\n",
    "predictions = pd.concat([predictions, predictiontemp], axis=1)"
   ]
  },
  {
   "cell_type": "code",
   "execution_count": 261,
   "metadata": {},
   "outputs": [],
   "source": [
    "from sklearn.linear_model import ElasticNet"
   ]
  },
  {
   "cell_type": "code",
   "execution_count": 264,
   "metadata": {},
   "outputs": [],
   "source": [
    "elastic = ElasticNet()\n",
    "scoretemp, predictiontemp = train_test(elastic, 'EL')\n",
    "scores = pd.concat([scores, scoretemp], axis=1)\n",
    "predictions = pd.concat([predictions, predictiontemp], axis=1)"
   ]
  },
  {
   "cell_type": "code",
   "execution_count": null,
   "metadata": {},
   "outputs": [],
   "source": []
  },
  {
   "cell_type": "code",
   "execution_count": 265,
   "metadata": {},
   "outputs": [
    {
     "data": {
      "text/html": [
       "<div>\n",
       "<style scoped>\n",
       "    .dataframe tbody tr th:only-of-type {\n",
       "        vertical-align: middle;\n",
       "    }\n",
       "\n",
       "    .dataframe tbody tr th {\n",
       "        vertical-align: top;\n",
       "    }\n",
       "\n",
       "    .dataframe thead th {\n",
       "        text-align: right;\n",
       "    }\n",
       "</style>\n",
       "<table border=\"1\" class=\"dataframe\">\n",
       "  <thead>\n",
       "    <tr style=\"text-align: right;\">\n",
       "      <th></th>\n",
       "      <th>D_R2</th>\n",
       "      <th>D_MAE</th>\n",
       "      <th>D_MSE</th>\n",
       "      <th>D_MPE</th>\n",
       "      <th>LR_R2</th>\n",
       "      <th>LR_MAE</th>\n",
       "      <th>LR_MSE</th>\n",
       "      <th>LR_MPE</th>\n",
       "      <th>EL_R2</th>\n",
       "      <th>EL_MAE</th>\n",
       "      <th>EL_MSE</th>\n",
       "      <th>EL_MPE</th>\n",
       "    </tr>\n",
       "  </thead>\n",
       "  <tbody>\n",
       "    <tr>\n",
       "      <th>count</th>\n",
       "      <td>5.000000e+00</td>\n",
       "      <td>5.000000</td>\n",
       "      <td>5.000000</td>\n",
       "      <td>5.000000</td>\n",
       "      <td>5.000000</td>\n",
       "      <td>5.000000</td>\n",
       "      <td>5.000000</td>\n",
       "      <td>5.000000</td>\n",
       "      <td>5.000000e+00</td>\n",
       "      <td>5.000000</td>\n",
       "      <td>5.000000</td>\n",
       "      <td>5.000000</td>\n",
       "    </tr>\n",
       "    <tr>\n",
       "      <th>mean</th>\n",
       "      <td>-3.998455e-03</td>\n",
       "      <td>0.077543</td>\n",
       "      <td>0.018026</td>\n",
       "      <td>0.833440</td>\n",
       "      <td>-0.090074</td>\n",
       "      <td>0.081199</td>\n",
       "      <td>0.019575</td>\n",
       "      <td>0.771930</td>\n",
       "      <td>-3.998455e-03</td>\n",
       "      <td>0.077543</td>\n",
       "      <td>0.018026</td>\n",
       "      <td>0.833440</td>\n",
       "    </tr>\n",
       "    <tr>\n",
       "      <th>std</th>\n",
       "      <td>4.449088e-03</td>\n",
       "      <td>0.002503</td>\n",
       "      <td>0.002092</td>\n",
       "      <td>0.087127</td>\n",
       "      <td>0.073870</td>\n",
       "      <td>0.005297</td>\n",
       "      <td>0.002656</td>\n",
       "      <td>0.121761</td>\n",
       "      <td>4.449088e-03</td>\n",
       "      <td>0.002503</td>\n",
       "      <td>0.002092</td>\n",
       "      <td>0.087127</td>\n",
       "    </tr>\n",
       "    <tr>\n",
       "      <th>min</th>\n",
       "      <td>-1.080806e-02</td>\n",
       "      <td>0.074489</td>\n",
       "      <td>0.014577</td>\n",
       "      <td>0.713289</td>\n",
       "      <td>-0.199470</td>\n",
       "      <td>0.075304</td>\n",
       "      <td>0.015589</td>\n",
       "      <td>0.632526</td>\n",
       "      <td>-1.080806e-02</td>\n",
       "      <td>0.074489</td>\n",
       "      <td>0.014577</td>\n",
       "      <td>0.713289</td>\n",
       "    </tr>\n",
       "    <tr>\n",
       "      <th>25%</th>\n",
       "      <td>-4.906774e-03</td>\n",
       "      <td>0.075551</td>\n",
       "      <td>0.017957</td>\n",
       "      <td>0.771512</td>\n",
       "      <td>-0.124938</td>\n",
       "      <td>0.075853</td>\n",
       "      <td>0.018360</td>\n",
       "      <td>0.661916</td>\n",
       "      <td>-4.906774e-03</td>\n",
       "      <td>0.075551</td>\n",
       "      <td>0.017957</td>\n",
       "      <td>0.771512</td>\n",
       "    </tr>\n",
       "    <tr>\n",
       "      <th>50%</th>\n",
       "      <td>-4.269084e-03</td>\n",
       "      <td>0.078146</td>\n",
       "      <td>0.018234</td>\n",
       "      <td>0.879229</td>\n",
       "      <td>-0.069390</td>\n",
       "      <td>0.083468</td>\n",
       "      <td>0.020350</td>\n",
       "      <td>0.798398</td>\n",
       "      <td>-4.269084e-03</td>\n",
       "      <td>0.078146</td>\n",
       "      <td>0.018234</td>\n",
       "      <td>0.879229</td>\n",
       "    </tr>\n",
       "    <tr>\n",
       "      <th>75%</th>\n",
       "      <td>-7.794158e-06</td>\n",
       "      <td>0.078897</td>\n",
       "      <td>0.019468</td>\n",
       "      <td>0.882760</td>\n",
       "      <td>-0.045328</td>\n",
       "      <td>0.084360</td>\n",
       "      <td>0.021309</td>\n",
       "      <td>0.850147</td>\n",
       "      <td>-7.794158e-06</td>\n",
       "      <td>0.078897</td>\n",
       "      <td>0.019468</td>\n",
       "      <td>0.882760</td>\n",
       "    </tr>\n",
       "    <tr>\n",
       "      <th>max</th>\n",
       "      <td>-5.613888e-07</td>\n",
       "      <td>0.080635</td>\n",
       "      <td>0.019892</td>\n",
       "      <td>0.920410</td>\n",
       "      <td>-0.011243</td>\n",
       "      <td>0.087008</td>\n",
       "      <td>0.022268</td>\n",
       "      <td>0.916665</td>\n",
       "      <td>-5.613888e-07</td>\n",
       "      <td>0.080635</td>\n",
       "      <td>0.019892</td>\n",
       "      <td>0.920410</td>\n",
       "    </tr>\n",
       "  </tbody>\n",
       "</table>\n",
       "</div>"
      ],
      "text/plain": [
       "               D_R2     D_MAE     D_MSE     D_MPE     LR_R2    LR_MAE  \\\n",
       "count  5.000000e+00  5.000000  5.000000  5.000000  5.000000  5.000000   \n",
       "mean  -3.998455e-03  0.077543  0.018026  0.833440 -0.090074  0.081199   \n",
       "std    4.449088e-03  0.002503  0.002092  0.087127  0.073870  0.005297   \n",
       "min   -1.080806e-02  0.074489  0.014577  0.713289 -0.199470  0.075304   \n",
       "25%   -4.906774e-03  0.075551  0.017957  0.771512 -0.124938  0.075853   \n",
       "50%   -4.269084e-03  0.078146  0.018234  0.879229 -0.069390  0.083468   \n",
       "75%   -7.794158e-06  0.078897  0.019468  0.882760 -0.045328  0.084360   \n",
       "max   -5.613888e-07  0.080635  0.019892  0.920410 -0.011243  0.087008   \n",
       "\n",
       "         LR_MSE    LR_MPE         EL_R2    EL_MAE    EL_MSE    EL_MPE  \n",
       "count  5.000000  5.000000  5.000000e+00  5.000000  5.000000  5.000000  \n",
       "mean   0.019575  0.771930 -3.998455e-03  0.077543  0.018026  0.833440  \n",
       "std    0.002656  0.121761  4.449088e-03  0.002503  0.002092  0.087127  \n",
       "min    0.015589  0.632526 -1.080806e-02  0.074489  0.014577  0.713289  \n",
       "25%    0.018360  0.661916 -4.906774e-03  0.075551  0.017957  0.771512  \n",
       "50%    0.020350  0.798398 -4.269084e-03  0.078146  0.018234  0.879229  \n",
       "75%    0.021309  0.850147 -7.794158e-06  0.078897  0.019468  0.882760  \n",
       "max    0.022268  0.916665 -5.613888e-07  0.080635  0.019892  0.920410  "
      ]
     },
     "execution_count": 265,
     "metadata": {},
     "output_type": "execute_result"
    }
   ],
   "source": [
    "scores.describe()"
   ]
  },
  {
   "cell_type": "code",
   "execution_count": 266,
   "metadata": {},
   "outputs": [
    {
     "data": {
      "image/png": "[encoded data removed]",
      "text/plain": [
       "<Figure size 432x288 with 1 Axes>"
      ]
     },
     "metadata": {
      "needs_background": "light"
     },
     "output_type": "display_data"
    },
    {
     "data": {
      "image/png": "[encoded data removed]",
      "text/plain": [
       "<Figure size 432x288 with 1 Axes>"
      ]
     },
     "metadata": {
      "needs_background": "light"
     },
     "output_type": "display_data"
    }
   ],
   "source": [
    "scores.loc[:,scores.columns.str.contains('MAE')].plot()\n",
    "scores.loc[:,scores.columns.str.contains('MPE')].plot()\n",
    "#plt.ylim(0,2)\n",
    "#plt.show()\n",
    "#plt.ylim(0,2)\n",
    "plt.show()"
   ]
  },
  {
   "cell_type": "code",
   "execution_count": 274,
   "metadata": {},
   "outputs": [],
   "source": [
    "def plot_train_test(algo, pred=predictions, y_true=y):\n",
    "    fig, ax = plt.subplots(2, 3, figsize=(20, 16))\n",
    "    \n",
    "    ax[0,0].set_title('1st Train Set')\n",
    "    ax[0,0].set_xlabel('Time (hs)')\n",
    "    ax[0,0].set_ylabel('Sum of Motion')\n",
    "    ax[0,0].plot(predictions[algo + '_y_pred1'], c='red', label='Prediction')\n",
    "    ax[0,0].plot(y[21375:42746], c='blue', label='Actual')\n",
    "    plt.ylim(0,2)\n",
    "    ax[0,0].legend()\n",
    "\n",
    "    ax[0,1].set_title('2nd Train Set')\n",
    "    ax[0,1].set_xlabel('Time (hs)')\n",
    "    ax[0,1].set_ylabel('Sum of Motion')\n",
    "    ax[0,1].plot(predictions[algo + '_y_pred2'], c='red', label='Prediction')\n",
    "    ax[0,1].plot(y[42747:64117], c='blue', label='Actual')\n",
    "    ax[0,1].legend()\n",
    "\n",
    "    ax[0,2].set_title('2nd Train Set')\n",
    "    ax[0,2].set_xlabel('Time (hs)')\n",
    "    ax[0,2].set_ylabel('Sum of Motion')\n",
    "    ax[0,2].plot(predictions[algo + '_y_pred2'], c='red', label='Prediction')\n",
    "    ax[0,2].plot(y[64118:85488], c='blue', label='Actual')\n",
    "    ax[0,2].legend()\n",
    "\n",
    "    ax[1,0].set_title('2nd Train Set')\n",
    "    ax[1,0].set_xlabel('Time (hs)')\n",
    "    ax[1,0].set_ylabel('Sum of Motion')\n",
    "    ax[1,0].plot(predictions[algo + '_y_pred2'], c='red', label='Prediction')\n",
    "    ax[1,0].plot(y[85489:106859], c='blue', label='Actual')\n",
    "    ax[1,0].legend()\n",
    "\n",
    "    ax[1,1].set_title('2nd Train Set')\n",
    "    ax[1,1].set_xlabel('Time (ms)')\n",
    "    ax[1,1].set_ylabel('Sum of Motion')\n",
    "    ax[1,1].plot(y[106859:128230], c='blue', label='Actual')\n",
    "    ax[1,1].plot(predictions[algo + '_y_pred2'], c='red', label='Prediction')\n",
    "    ax[1,1].legend()\n",
    "    plt.ylim(0,2)\n",
    "    plt.show()"
   ]
  },
  {
   "cell_type": "code",
   "execution_count": null,
   "metadata": {},
   "outputs": [],
   "source": [
    "[    0     1     2 ... 21373 21374 21375] [21376 21377 21378 ... 42744 42745 42746]\n",
    "[    0     1     2 ... 42744 42745 42746] [42747 42748 42749 ... 64115 64116 64117]\n",
    "[    0     1     2 ... 64115 64116 64117] [64118 64119 64120 ... 85486 85487 85488]\n",
    "[    0     1     2 ... 85486 85487 85488] [ 85489  85490  85491 ... 106857 106858 106859]\n",
    "[     0      1      2 ... 106857 106858 106859] [106860 106861 106862 ... 128228 128229 128230]"
   ]
  },
  {
   "cell_type": "code",
   "execution_count": 269,
   "metadata": {},
   "outputs": [
    {
     "data": {
      "text/plain": [
       "<generator object TimeSeriesSplit.split at 0x00000292AAC243C0>"
      ]
     },
     "execution_count": 269,
     "metadata": {},
     "output_type": "execute_result"
    }
   ],
   "source": [
    "tscv.split(X)"
   ]
  },
  {
   "cell_type": "code",
   "execution_count": 275,
   "metadata": {},
   "outputs": [
    {
     "data": {
      "image/png": "[encoded data removed]",
      "text/plain": [
       "<Figure size 1440x1152 with 6 Axes>"
      ]
     },
     "metadata": {
      "needs_background": "light"
     },
     "output_type": "display_data"
    }
   ],
   "source": [
    "plot_train_test('LR')"
   ]
  },
  {
   "cell_type": "code",
   "execution_count": 141,
   "metadata": {},
   "outputs": [],
   "source": [
    "count=1\n",
    "X_train = {}\n",
    "X_test = {}\n",
    "y_train = {}\n",
    "y_test = {}\n",
    "y_pred = {}\n",
    "for train_index, test_index in tscv.split(X):\n",
    "    X_train[count], X_test[count] = X[train_index], X[test_index]\n",
    "    y_train[count], y_test[count] = y[train_index], y[test_index]\n",
    "    lin.fit(X_train[count], y_train[count])\n",
    "    y_pred['LR'+'y_pred'+str(count)] = lin.predict(X_test[count])\n",
    "    count+=1"
   ]
  },
  {
   "cell_type": "code",
   "execution_count": null,
   "metadata": {},
   "outputs": [],
   "source": [
    "predictiontemp[algo + '_y_pred' + str(count)].append(y_pred)\n",
    "        scoretemp[algo + '_R2'].append(r2_score(y_test, y_pred))\n",
    "        scoretemp[algo + '_MAE'].append(mean_absolute_error(y_test, y_pred))\n",
    "        scoretemp[algo + '_MSE'].append(mean_squared_error(y_test, y_pred))\n",
    "        scoretemp[algo + '_MPE'].append(mean_absolute_error(y_test, y_pred))\n",
    "        count+=1\n",
    "    predictiontemp = pd.DataFrame.from_dict(predictiontemp)\n",
    "    scoretemp = pd.DataFrame(scoretemp)\n",
    "    return scoretemp, predictiontemp"
   ]
  }
 ],
 "metadata": {
  "kernelspec": {
   "display_name": "micromotion",
   "language": "python",
   "name": "micromotion"
  },
  "language_info": {
   "codemirror_mode": {
    "name": "ipython",
    "version": 3
   },
   "file_extension": ".py",
   "mimetype": "text/x-python",
   "name": "python",
   "nbconvert_exporter": "python",
   "pygments_lexer": "ipython3",
   "version": "3.9.2"
  }
 },
 "nbformat": 4,
 "nbformat_minor": 4
}
