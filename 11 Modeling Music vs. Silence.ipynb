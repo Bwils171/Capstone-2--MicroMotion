{
 "cells": [
  {
   "cell_type": "code",
   "execution_count": 1,
   "metadata": {},
   "outputs": [],
   "source": [
    "%matplotlib inline\n",
    "import pandas as pd\n",
    "import librosa as lib\n",
    "import librosa.display\n",
    "import numpy as np\n",
    "import matplotlib.pyplot as plt\n",
    "import seaborn as sns\n",
    "from IPython.display import Audio\n",
    "import scipy"
   ]
  },
  {
   "cell_type": "code",
   "execution_count": 2,
   "metadata": {},
   "outputs": [],
   "source": [
    "from sklearn.linear_model import LinearRegression, ElasticNet\n",
    "from sklearn.dummy import DummyRegressor\n",
    "from sklearn.tree import DecisionTreeRegressor\n",
    "from sklearn.ensemble import RandomForestRegressor\n",
    "from sklearn.svm import SVR\n",
    "from sklearn.model_selection import TimeSeriesSplit, train_test_split, RandomizedSearchCV\n",
    "from sklearn.decomposition import PCA\n",
    "from sklearn.preprocessing import StandardScaler\n",
    "from sklearn.metrics import mean_absolute_error\n",
    "from sklearn.metrics import mean_squared_error\n",
    "from sklearn.metrics import mean_absolute_percentage_error\n",
    "from sklearn.metrics import r2_score"
   ]
  },
  {
   "cell_type": "code",
   "execution_count": 3,
   "metadata": {},
   "outputs": [
    {
     "name": "stderr",
     "output_type": "stream",
     "text": [
      "C:\\Users\\bwils\\anaconda3\\envs\\micromotion\\lib\\site-packages\\distributed\\node.py:151: UserWarning: Port 8787 is already in use.\n",
      "Perhaps you already have a cluster running?\n",
      "Hosting the HTTP server on port 53523 instead\n",
      "  warnings.warn(\n"
     ]
    },
    {
     "data": {
      "text/plain": [
       "(<Scheduler: \"tcp://127.0.0.1:53526\" processes: 3 cores: 6>,\n",
       " {0: <Nanny: tcp://127.0.0.1:53545, threads: 2>,\n",
       "  1: <Nanny: tcp://127.0.0.1:53548, threads: 2>,\n",
       "  2: <Nanny: tcp://127.0.0.1:53551, threads: 2>})"
      ]
     },
     "execution_count": 3,
     "metadata": {},
     "output_type": "execute_result"
    }
   ],
   "source": [
    "from dask import dataframe as dd\n",
    "import joblib\n",
    "from dask.distributed import Client, LocalCluster\n",
    "cluster = LocalCluster()\n",
    "client = Client(cluster)\n",
    "cluster.scheduler, cluster.workers"
   ]
  },
  {
   "cell_type": "code",
   "execution_count": 4,
   "metadata": {},
   "outputs": [],
   "source": [
    "model_data = pd.read_pickle('DFs/model_data.pkl')"
   ]
  },
  {
   "cell_type": "code",
   "execution_count": 5,
   "metadata": {},
   "outputs": [],
   "source": [
    "def cross_val_time(model, algo,  X, y, split=5):\n",
    "    count=1\n",
    "    tscv = TimeSeriesSplit(n_splits=split)\n",
    "    scoretemp = {algo+'_MAE':[], algo+'_MSE':[], algo+'_MPE':[]}\n",
    "    for train_index, test_index in tscv.split(X):\n",
    "        X_train, X_test = X[train_index], X[test_index]\n",
    "        y_train, y_test = y[train_index], y[test_index]\n",
    "        print(train_index[0], train_index[-1], test_index[0], test_index[-1])\n",
    "        with joblib.parallel_backend('dask'):\n",
    "            model.fit(X_train, y_train)\n",
    "        y_pred = model.predict(X_test)\n",
    "        #scoretemp[algo + '_R2'].append(r2_score(y_test, y_pred))\n",
    "        scoretemp[algo + '_MAE'].append(mean_absolute_error(y_test, y_pred))\n",
    "        scoretemp[algo + '_MSE'].append(mean_squared_error(y_test, y_pred))\n",
    "        scoretemp[algo + '_MPE'].append(mean_absolute_percentage_error(y_test, y_pred))\n",
    "        for i in scoretemp.keys():\n",
    "            print(i + ': '+ str(scoretemp[i][count-1]))\n",
    "        count+=1\n",
    "    scoretemp = pd.DataFrame(scoretemp)\n",
    "    return scoretemp"
   ]
  },
  {
   "cell_type": "code",
   "execution_count": 6,
   "metadata": {},
   "outputs": [],
   "source": [
    "def Xy_prep(df, target, a=1, b=75):\n",
    "    df_1 = df.loc[df['PID'].between(a, b)]\n",
    "    drop_cols = ['PID', 'SID', 'target_5', 'target_10', 'target_20', 'X', 'Y','Z', 'segment']\n",
    "    df_1i = df_1.set_index('millisecond')\n",
    "    participants = b-a+1\n",
    "    cut_rows = int(target[-2:])*participants*10\n",
    "    X = df_1i.drop(columns=drop_cols).to_numpy()[:len(df)-cut_rows]\n",
    "    y = df_1i[target].to_numpy()[:len(df)-cut_rows]\n",
    "    cols = df_1i.drop(columns=drop_cols).columns\n",
    "    participants = b-a+1\n",
    "    \n",
    "    return X, y, cols, participants, cut_rows"
   ]
  },
  {
   "cell_type": "code",
   "execution_count": 7,
   "metadata": {},
   "outputs": [
    {
     "name": "stdout",
     "output_type": "stream",
     "text": [
      "3162\n",
      "4743\n",
      "7905\n",
      "10686\n"
     ]
    }
   ],
   "source": [
    "X, y, cols, participants, cut_rows = Xy_prep(model_data, 'target_20', 15, 20)\n",
    "#seperating out pieces based on how many paricipants used cutting point at end\n",
    "end_sil_train = int(( (len(X) - cut_rows) / 2 ) * (2/3))\n",
    "print(end_sil_train)\n",
    "end_sil_test = int(( len(X) - cut_rows) / 2)\n",
    "print(end_sil_test)\n",
    "start_music_test = int(end_sil_test + end_sil_test * (2/3))\n",
    "print(start_music_test)\n",
    "print(len(X))\n",
    "X_train_sil = X[:end_sil_train, :]\n",
    "X_test_sil = X[end_sil_train:end_sil_test, :]\n",
    "y_train_sil = y[:end_sil_train]\n",
    "y_test_sil = y[end_sil_train:end_sil_test]\n",
    "\n",
    "\n",
    "X_train_music = X[end_sil_test:start_music_test, :]\n",
    "X_test_music = X[start_music_test:, :]\n",
    "y_train_music = y[end_sil_test:start_music_test]\n",
    "y_test_music = y[start_music_test:]"
   ]
  },
  {
   "cell_type": "code",
   "execution_count": 8,
   "metadata": {},
   "outputs": [
    {
     "data": {
      "text/plain": [
       "-0.14520919603796867"
      ]
     },
     "execution_count": 8,
     "metadata": {},
     "output_type": "execute_result"
    }
   ],
   "source": [
    "dummy = DummyRegressor(strategy='mean')\n",
    "dummy.fit(X_train_sil, y_train_sil)\n",
    "dummy.score(X_test_sil, y_test_sil)"
   ]
  },
  {
   "cell_type": "code",
   "execution_count": 9,
   "metadata": {},
   "outputs": [
    {
     "data": {
      "text/plain": [
       "0.4188028772817658"
      ]
     },
     "execution_count": 9,
     "metadata": {},
     "output_type": "execute_result"
    }
   ],
   "source": [
    "rf1_sil = RandomForestRegressor()\n",
    "with joblib.parallel_backend('dask'):\n",
    "    rf1_sil.fit(X_train_sil, y_train_sil)\n",
    "rf1_sil.score(X_test_sil, y_test_sil)"
   ]
  },
  {
   "cell_type": "code",
   "execution_count": 10,
   "metadata": {},
   "outputs": [
    {
     "data": {
      "text/plain": [
       "-0.8856330924854565"
      ]
     },
     "execution_count": 10,
     "metadata": {},
     "output_type": "execute_result"
    }
   ],
   "source": [
    "dummy = DummyRegressor(strategy='mean')\n",
    "dummy.fit(X_train_music, y_train_music)\n",
    "dummy.score(X_test_music, y_test_music)"
   ]
  },
  {
   "cell_type": "code",
   "execution_count": 11,
   "metadata": {},
   "outputs": [
    {
     "data": {
      "text/plain": [
       "-1.0256860767908806"
      ]
     },
     "execution_count": 11,
     "metadata": {},
     "output_type": "execute_result"
    }
   ],
   "source": [
    "rf1_music = RandomForestRegressor(n_estimators=150)\n",
    "with joblib.parallel_backend('dask'):\n",
    "    rf1_music.fit(X_train_music, y_train_music)\n",
    "rf1_music.score(X_test_music, y_test_music)"
   ]
  },
  {
   "cell_type": "code",
   "execution_count": 12,
   "metadata": {},
   "outputs": [
    {
     "data": {
      "image/png": "[encoded data removed]",
      "text/plain": [
       "<Figure size 432x288 with 1 Axes>"
      ]
     },
     "metadata": {
      "needs_background": "light"
     },
     "output_type": "display_data"
    }
   ],
   "source": [
    "y_pred_sil = rf1_sil.predict(X_test_sil)\n",
    "sns.scatterplot(y=y_pred_sil, x=y_test_sil)\n",
    "plt.ylabel('true')\n",
    "plt.xlabel('pred')\n",
    "plt.show()"
   ]
  },
  {
   "cell_type": "code",
   "execution_count": 13,
   "metadata": {
    "scrolled": true
   },
   "outputs": [
    {
     "data": {
      "text/html": [
       "<div>\n",
       "<style scoped>\n",
       "    .dataframe tbody tr th:only-of-type {\n",
       "        vertical-align: middle;\n",
       "    }\n",
       "\n",
       "    .dataframe tbody tr th {\n",
       "        vertical-align: top;\n",
       "    }\n",
       "\n",
       "    .dataframe thead th {\n",
       "        text-align: right;\n",
       "    }\n",
       "</style>\n",
       "<table border=\"1\" class=\"dataframe\">\n",
       "  <thead>\n",
       "    <tr style=\"text-align: right;\">\n",
       "      <th></th>\n",
       "      <th>true</th>\n",
       "      <th>pred</th>\n",
       "    </tr>\n",
       "  </thead>\n",
       "  <tbody>\n",
       "    <tr>\n",
       "      <th>0</th>\n",
       "      <td>214.965382</td>\n",
       "      <td>215.133501</td>\n",
       "    </tr>\n",
       "    <tr>\n",
       "      <th>1</th>\n",
       "      <td>166.616640</td>\n",
       "      <td>166.189865</td>\n",
       "    </tr>\n",
       "    <tr>\n",
       "      <th>2</th>\n",
       "      <td>315.166921</td>\n",
       "      <td>310.565197</td>\n",
       "    </tr>\n",
       "    <tr>\n",
       "      <th>3</th>\n",
       "      <td>168.914984</td>\n",
       "      <td>169.180681</td>\n",
       "    </tr>\n",
       "    <tr>\n",
       "      <th>4</th>\n",
       "      <td>181.066073</td>\n",
       "      <td>181.627281</td>\n",
       "    </tr>\n",
       "    <tr>\n",
       "      <th>...</th>\n",
       "      <td>...</td>\n",
       "      <td>...</td>\n",
       "    </tr>\n",
       "    <tr>\n",
       "      <th>1576</th>\n",
       "      <td>231.445120</td>\n",
       "      <td>181.750981</td>\n",
       "    </tr>\n",
       "    <tr>\n",
       "      <th>1577</th>\n",
       "      <td>248.735155</td>\n",
       "      <td>291.063570</td>\n",
       "    </tr>\n",
       "    <tr>\n",
       "      <th>1578</th>\n",
       "      <td>222.381869</td>\n",
       "      <td>179.673208</td>\n",
       "    </tr>\n",
       "    <tr>\n",
       "      <th>1579</th>\n",
       "      <td>179.931467</td>\n",
       "      <td>181.684654</td>\n",
       "    </tr>\n",
       "    <tr>\n",
       "      <th>1580</th>\n",
       "      <td>260.692004</td>\n",
       "      <td>299.359772</td>\n",
       "    </tr>\n",
       "  </tbody>\n",
       "</table>\n",
       "<p>1581 rows × 2 columns</p>\n",
       "</div>"
      ],
      "text/plain": [
       "            true        pred\n",
       "0     214.965382  215.133501\n",
       "1     166.616640  166.189865\n",
       "2     315.166921  310.565197\n",
       "3     168.914984  169.180681\n",
       "4     181.066073  181.627281\n",
       "...          ...         ...\n",
       "1576  231.445120  181.750981\n",
       "1577  248.735155  291.063570\n",
       "1578  222.381869  179.673208\n",
       "1579  179.931467  181.684654\n",
       "1580  260.692004  299.359772\n",
       "\n",
       "[1581 rows x 2 columns]"
      ]
     },
     "execution_count": 13,
     "metadata": {},
     "output_type": "execute_result"
    }
   ],
   "source": [
    "plot_sil = pd.DataFrame(y_pred_sil, columns=['pred'])\n",
    "plot_sil.insert(0, value=y_test_sil, column='true')\n",
    "plot_sil"
   ]
  },
  {
   "cell_type": "code",
   "execution_count": 14,
   "metadata": {
    "scrolled": true
   },
   "outputs": [
    {
     "data": {
      "image/png": "[encoded data removed]",
      "text/plain": [
       "<Figure size 432x288 with 1 Axes>"
      ]
     },
     "metadata": {
      "needs_background": "light"
     },
     "output_type": "display_data"
    }
   ],
   "source": [
    "sns.lineplot(data=plot_sil.rolling(200).mean())\n",
    "plt.show()"
   ]
  },
  {
   "cell_type": "code",
   "execution_count": 15,
   "metadata": {},
   "outputs": [
    {
     "data": {
      "image/png": "[encoded data removed]",
      "text/plain": [
       "<Figure size 432x288 with 1 Axes>"
      ]
     },
     "metadata": {
      "needs_background": "light"
     },
     "output_type": "display_data"
    }
   ],
   "source": [
    "y_pred_music = rf1_music.predict(X_test_music)\n",
    "sns.scatterplot(y=y_pred_music, x=y_test_music)\n",
    "plt.ylabel('true')\n",
    "plt.xlabel('pred')\n",
    "plt.show()"
   ]
  },
  {
   "cell_type": "code",
   "execution_count": 16,
   "metadata": {},
   "outputs": [
    {
     "data": {
      "text/html": [
       "<div>\n",
       "<style scoped>\n",
       "    .dataframe tbody tr th:only-of-type {\n",
       "        vertical-align: middle;\n",
       "    }\n",
       "\n",
       "    .dataframe tbody tr th {\n",
       "        vertical-align: top;\n",
       "    }\n",
       "\n",
       "    .dataframe thead th {\n",
       "        text-align: right;\n",
       "    }\n",
       "</style>\n",
       "<table border=\"1\" class=\"dataframe\">\n",
       "  <thead>\n",
       "    <tr style=\"text-align: right;\">\n",
       "      <th></th>\n",
       "      <th>true</th>\n",
       "      <th>pred</th>\n",
       "    </tr>\n",
       "  </thead>\n",
       "  <tbody>\n",
       "    <tr>\n",
       "      <th>0</th>\n",
       "      <td>179.958018</td>\n",
       "      <td>177.918940</td>\n",
       "    </tr>\n",
       "    <tr>\n",
       "      <th>1</th>\n",
       "      <td>170.806600</td>\n",
       "      <td>172.206754</td>\n",
       "    </tr>\n",
       "    <tr>\n",
       "      <th>2</th>\n",
       "      <td>242.401164</td>\n",
       "      <td>242.453218</td>\n",
       "    </tr>\n",
       "    <tr>\n",
       "      <th>3</th>\n",
       "      <td>172.683465</td>\n",
       "      <td>172.550466</td>\n",
       "    </tr>\n",
       "    <tr>\n",
       "      <th>4</th>\n",
       "      <td>256.369114</td>\n",
       "      <td>259.362832</td>\n",
       "    </tr>\n",
       "    <tr>\n",
       "      <th>...</th>\n",
       "      <td>...</td>\n",
       "      <td>...</td>\n",
       "    </tr>\n",
       "    <tr>\n",
       "      <th>2776</th>\n",
       "      <td>0.000000</td>\n",
       "      <td>178.907687</td>\n",
       "    </tr>\n",
       "    <tr>\n",
       "      <th>2777</th>\n",
       "      <td>0.000000</td>\n",
       "      <td>309.804861</td>\n",
       "    </tr>\n",
       "    <tr>\n",
       "      <th>2778</th>\n",
       "      <td>0.000000</td>\n",
       "      <td>227.259027</td>\n",
       "    </tr>\n",
       "    <tr>\n",
       "      <th>2779</th>\n",
       "      <td>0.000000</td>\n",
       "      <td>173.236438</td>\n",
       "    </tr>\n",
       "    <tr>\n",
       "      <th>2780</th>\n",
       "      <td>0.000000</td>\n",
       "      <td>296.890155</td>\n",
       "    </tr>\n",
       "  </tbody>\n",
       "</table>\n",
       "<p>2781 rows × 2 columns</p>\n",
       "</div>"
      ],
      "text/plain": [
       "            true        pred\n",
       "0     179.958018  177.918940\n",
       "1     170.806600  172.206754\n",
       "2     242.401164  242.453218\n",
       "3     172.683465  172.550466\n",
       "4     256.369114  259.362832\n",
       "...          ...         ...\n",
       "2776    0.000000  178.907687\n",
       "2777    0.000000  309.804861\n",
       "2778    0.000000  227.259027\n",
       "2779    0.000000  173.236438\n",
       "2780    0.000000  296.890155\n",
       "\n",
       "[2781 rows x 2 columns]"
      ]
     },
     "execution_count": 16,
     "metadata": {},
     "output_type": "execute_result"
    }
   ],
   "source": [
    "plot_mus = pd.DataFrame(y_pred_music, columns=['pred'])\n",
    "plot_mus.insert(0, value=y_test_music, column='true')\n",
    "plot_mus"
   ]
  },
  {
   "cell_type": "code",
   "execution_count": 17,
   "metadata": {
    "scrolled": true
   },
   "outputs": [
    {
     "data": {
      "image/png": "[encoded data removed]",
      "text/plain": [
       "<Figure size 432x288 with 1 Axes>"
      ]
     },
     "metadata": {
      "needs_background": "light"
     },
     "output_type": "display_data"
    }
   ],
   "source": [
    "sns.lineplot(data=plot_mus.rolling(200).mean())\n",
    "plt.ylim(200, 225)\n",
    "plt.show()"
   ]
  }
 ],
 "metadata": {
  "kernelspec": {
   "display_name": "micromotion",
   "language": "python",
   "name": "micromotion"
  },
  "language_info": {
   "codemirror_mode": {
    "name": "ipython",
    "version": 3
   },
   "file_extension": ".py",
   "mimetype": "text/x-python",
   "name": "python",
   "nbconvert_exporter": "python",
   "pygments_lexer": "ipython3",
   "version": "3.9.2"
  }
 },
 "nbformat": 4,
 "nbformat_minor": 4
}
